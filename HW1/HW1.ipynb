{
  "nbformat": 4,
  "nbformat_minor": 0,
  "metadata": {
    "colab": {
      "name": "HW1.ipynb",
      "provenance": [],
      "collapsed_sections": []
    },
    "kernelspec": {
      "name": "python3",
      "display_name": "Python 3"
    }
  },
  "cells": [
    {
      "cell_type": "markdown",
      "metadata": {
        "id": "yqJEfLMgu7wC"
      },
      "source": [
        "# **Извлечение ключевых слов**"
      ]
    },
    {
      "cell_type": "markdown",
      "metadata": {
        "id": "JYdxzsCUyevu"
      },
      "source": [
        "В качестве корпуса я решила взять статьи из журнала [Cosmopolitan](https://www.cosmo.ru/). В рамках домашнего задания мне бы хотелось отследить влияние длины текста, поэтому в корпус попали и относительно длинные тексты в 1000 слов, средние по длине - по 500 и совсем короткие тексты. В результате в [корпус](https://github.com/psaleksandrova/NLP_2020/blob/main/HW1/cosmo.csv) вошло 7 статей.\n",
        "\n",
        "Ключевые слова хранятся в виде тегов. Тем не менее, теги, выбранные авторами статьи, в некоторых случаях достаточно общими, что я и постаралась исправить в своей ручной разметке, сделав теги более специфичными. Кажется, что теги для статей используются в первую очередь как способ навигации, а потому совершенно нормально, что они отражают общую идею статьи, несмотря на то, что выбранные для некоторых тегов слова даже не встречаются в тексте."
      ]
    },
    {
      "cell_type": "code",
      "metadata": {
        "id": "CJZcFj5BqmOs"
      },
      "source": [
        "import pandas as pd"
      ],
      "execution_count": 165,
      "outputs": []
    },
    {
      "cell_type": "code",
      "metadata": {
        "colab": {
          "base_uri": "https://localhost:8080/",
          "height": 266
        },
        "id": "MspBJlf_qogb",
        "outputId": "3d2e8b9b-d081-426e-ef48-84472216c1ff"
      },
      "source": [
        "df = pd.read_csv('https://raw.githubusercontent.com/psaleksandrova/NLP_2020/main/HW1/cosmo.csv?token=AHTHNY3322ACLGJ2X4EQDSK74JVGG')\n",
        "df['text_len'] = df['text'].apply(lambda x: len(x.split()))\n",
        "df"
      ],
      "execution_count": 166,
      "outputs": [
        {
          "output_type": "execute_result",
          "data": {
            "text/html": [
              "<div>\n",
              "<style scoped>\n",
              "    .dataframe tbody tr th:only-of-type {\n",
              "        vertical-align: middle;\n",
              "    }\n",
              "\n",
              "    .dataframe tbody tr th {\n",
              "        vertical-align: top;\n",
              "    }\n",
              "\n",
              "    .dataframe thead th {\n",
              "        text-align: right;\n",
              "    }\n",
              "</style>\n",
              "<table border=\"1\" class=\"dataframe\">\n",
              "  <thead>\n",
              "    <tr style=\"text-align: right;\">\n",
              "      <th></th>\n",
              "      <th>text</th>\n",
              "      <th>keywords</th>\n",
              "      <th>my_keywords</th>\n",
              "      <th>text_len</th>\n",
              "    </tr>\n",
              "  </thead>\n",
              "  <tbody>\n",
              "    <tr>\n",
              "      <th>0</th>\n",
              "      <td>40-летняя теледива сняла провокационные кадры ...</td>\n",
              "      <td>Ким Кардашьян, Канье Уэст, звездные семьи, сем...</td>\n",
              "      <td>Ким Кардашьян, наряд, Канье Уэст, развод</td>\n",
              "      <td>445</td>\n",
              "    </tr>\n",
              "    <tr>\n",
              "      <th>1</th>\n",
              "      <td>Для кого мы придумали Школу женского здоровья?...</td>\n",
              "      <td>женское здоровье, аборт, менструация, беременн...</td>\n",
              "      <td>женщины, школа женского здоровья, медицина, бе...</td>\n",
              "      <td>513</td>\n",
              "    </tr>\n",
              "    <tr>\n",
              "      <th>2</th>\n",
              "      <td>Каждой маме знакомо это чувство: кажется, что ...</td>\n",
              "      <td>женщины, дети, материнство, психология, что де...</td>\n",
              "      <td>женщины, материнство, дети, выгорание, усталос...</td>\n",
              "      <td>1061</td>\n",
              "    </tr>\n",
              "    <tr>\n",
              "      <th>3</th>\n",
              "      <td>Как побороть лень, апатию и усталость?\\r\\nБыст...</td>\n",
              "      <td>эмоциональное выгорание, лень, борьба с устало...</td>\n",
              "      <td>хроническая усталость, лень, апатия, мотивация...</td>\n",
              "      <td>1084</td>\n",
              "    </tr>\n",
              "    <tr>\n",
              "      <th>4</th>\n",
              "      <td>38-летний иллюзионист Сергей Сафронов был со с...</td>\n",
              "      <td>Ольга Бузова, Сергей Сафронов, скандалы, Битва...</td>\n",
              "      <td>Алина Вердиш, Сергей Сафронов, победа, ТНТ, Би...</td>\n",
              "      <td>352</td>\n",
              "    </tr>\n",
              "    <tr>\n",
              "      <th>5</th>\n",
              "      <td>41-летняя Виктория Боня выступила против массо...</td>\n",
              "      <td>Виктория Боня, коронавирус, COVID-19, пандемия</td>\n",
              "      <td>Виктория Боня, коронавирус, прививка, ВОЗ</td>\n",
              "      <td>229</td>\n",
              "    </tr>\n",
              "    <tr>\n",
              "      <th>6</th>\n",
              "      <td>При поисковом запросе «диета Протасова» Google...</td>\n",
              "      <td>здоровье, похудение, рецепты, диета</td>\n",
              "      <td>похудение, диета, Ким Протасов, Ганна</td>\n",
              "      <td>201</td>\n",
              "    </tr>\n",
              "  </tbody>\n",
              "</table>\n",
              "</div>"
            ],
            "text/plain": [
              "                                                text  ... text_len\n",
              "0  40-летняя теледива сняла провокационные кадры ...  ...      445\n",
              "1  Для кого мы придумали Школу женского здоровья?...  ...      513\n",
              "2  Каждой маме знакомо это чувство: кажется, что ...  ...     1061\n",
              "3  Как побороть лень, апатию и усталость?\\r\\nБыст...  ...     1084\n",
              "4  38-летний иллюзионист Сергей Сафронов был со с...  ...      352\n",
              "5  41-летняя Виктория Боня выступила против массо...  ...      229\n",
              "6  При поисковом запросе «диета Протасова» Google...  ...      201\n",
              "\n",
              "[7 rows x 4 columns]"
            ]
          },
          "metadata": {
            "tags": []
          },
          "execution_count": 166
        }
      ]
    },
    {
      "cell_type": "code",
      "metadata": {
        "colab": {
          "base_uri": "https://localhost:8080/"
        },
        "id": "tD1jWlxeqssE",
        "outputId": "93795e5d-8704-49eb-b20a-fc2c73c9d2c4"
      },
      "source": [
        "sum(df['text_len'])"
      ],
      "execution_count": 167,
      "outputs": [
        {
          "output_type": "execute_result",
          "data": {
            "text/plain": [
              "3885"
            ]
          },
          "metadata": {
            "tags": []
          },
          "execution_count": 167
        }
      ]
    },
    {
      "cell_type": "markdown",
      "metadata": {
        "id": "dqPImE35arTw"
      },
      "source": [
        "Разберемся с эталонной разметкой"
      ]
    },
    {
      "cell_type": "code",
      "metadata": {
        "colab": {
          "base_uri": "https://localhost:8080/"
        },
        "id": "1NiyLiRYaySn",
        "outputId": "0aa9219a-4886-42ff-b7d9-34f1f840aacd"
      },
      "source": [
        "[list(set(df.keywords[i].split(', ')) & set(df.my_keywords[i].split(', '))) for i in range(len(df))]"
      ],
      "execution_count": 168,
      "outputs": [
        {
          "output_type": "execute_result",
          "data": {
            "text/plain": [
              "[['Ким Кардашьян', 'Канье Уэст'],\n",
              " ['беременность'],\n",
              " ['дети', 'материнство', 'выгорание', 'женщины'],\n",
              " ['лень'],\n",
              " ['Битва экстрасенсов', 'Сергей Сафронов'],\n",
              " ['Виктория Боня', 'коронавирус'],\n",
              " ['похудение', 'диета']]"
            ]
          },
          "metadata": {
            "tags": []
          },
          "execution_count": 168
        }
      ]
    },
    {
      "cell_type": "markdown",
      "metadata": {
        "id": "QAP1kbBaa6uV"
      },
      "source": [
        "Кажется, что вследствие низкой размерности пересечений списков ключевых слов более правильным будет использовать их объединение."
      ]
    },
    {
      "cell_type": "code",
      "metadata": {
        "colab": {
          "base_uri": "https://localhost:8080/"
        },
        "id": "_QEjAXwaA9P4",
        "outputId": "401c6ce7-42c7-4c7c-a271-32c7160eddb4"
      },
      "source": [
        "keys = [list(set(df.keywords[i].split(', ')) | set(df.my_keywords[i].split(', '))) for i in range(len(df))]\n",
        "keys"
      ],
      "execution_count": 169,
      "outputs": [
        {
          "output_type": "execute_result",
          "data": {
            "text/plain": [
              "[['семейство Кардашьян',\n",
              "  'наряд',\n",
              "  'звездные семьи',\n",
              "  'Ким Кардашьян',\n",
              "  'развод',\n",
              "  'Канье Уэст',\n",
              "  'корректирующее белье'],\n",
              " ['беременность',\n",
              "  'женское здоровье',\n",
              "  'аборт',\n",
              "  'менструация',\n",
              "  'медицина',\n",
              "  'школа женского здоровья',\n",
              "  'гормональные изменения',\n",
              "  'женщины'],\n",
              " ['материнство',\n",
              "  'выгорание',\n",
              "  'дети',\n",
              "  'помощь',\n",
              "  'что делать',\n",
              "  'усталость',\n",
              "  'психология',\n",
              "  'женщины'],\n",
              " ['эмоциональное выгорание',\n",
              "  'хроническая усталость',\n",
              "  'мотивация',\n",
              "  '\\r\\nботе',\n",
              "  'лень',\n",
              "  'отдых',\n",
              "  'борьба с усталостью',\n",
              "  'апатия',\n",
              "  'работа'],\n",
              " ['ТНТ',\n",
              "  'победа',\n",
              "  'Битва экстрасенсов',\n",
              "  'скандалы',\n",
              "  'Ольга Бузова',\n",
              "  'Алина Вердиш',\n",
              "  'Сергей Сафронов'],\n",
              " ['ВОЗ', 'коронавирус', 'COVID-19', 'Виктория Боня', 'пандемия', 'прививка'],\n",
              " ['похудение', 'рецепты', 'Ким Протасов', 'здоровье', 'диета', 'Ганна']]"
            ]
          },
          "metadata": {
            "tags": []
          },
          "execution_count": 169
        }
      ]
    },
    {
      "cell_type": "code",
      "metadata": {
        "id": "awYllgUIb4c6"
      },
      "source": [
        "df['etalon_keywords'] = keys"
      ],
      "execution_count": 170,
      "outputs": []
    },
    {
      "cell_type": "markdown",
      "metadata": {
        "id": "GgAvzHNpKO8E"
      },
      "source": [
        "## Перейдём к самому извлечению ключевых слов"
      ]
    },
    {
      "cell_type": "code",
      "metadata": {
        "colab": {
          "base_uri": "https://localhost:8080/"
        },
        "id": "yrcfA4uIl0CU",
        "outputId": "e3ece8e6-8fb6-4860-b9e6-25a8a3471385"
      },
      "source": [
        "!pip install pymorphy2\n",
        "!pip install razdel"
      ],
      "execution_count": 171,
      "outputs": [
        {
          "output_type": "stream",
          "text": [
            "Requirement already satisfied: pymorphy2 in /usr/local/lib/python3.6/dist-packages (0.9.1)\n",
            "Requirement already satisfied: pymorphy2-dicts-ru<3.0,>=2.4 in /usr/local/lib/python3.6/dist-packages (from pymorphy2) (2.4.417127.4579844)\n",
            "Requirement already satisfied: docopt>=0.6 in /usr/local/lib/python3.6/dist-packages (from pymorphy2) (0.6.2)\n",
            "Requirement already satisfied: dawg-python>=0.7.1 in /usr/local/lib/python3.6/dist-packages (from pymorphy2) (0.7.2)\n",
            "Requirement already satisfied: razdel in /usr/local/lib/python3.6/dist-packages (0.5.0)\n"
          ],
          "name": "stdout"
        }
      ]
    },
    {
      "cell_type": "code",
      "metadata": {
        "colab": {
          "base_uri": "https://localhost:8080/"
        },
        "id": "lJ5Q78uSIB6q",
        "outputId": "d59f62ef-afc3-429f-d3b4-7d3cc35b0d23"
      },
      "source": [
        "import re\n",
        "import pymorphy2\n",
        "import nltk\n",
        "nltk.download('stopwords')\n",
        "from string import punctuation\n",
        "from nltk.corpus import stopwords\n",
        "from razdel import tokenize"
      ],
      "execution_count": 172,
      "outputs": [
        {
          "output_type": "stream",
          "text": [
            "[nltk_data] Downloading package stopwords to /root/nltk_data...\n",
            "[nltk_data]   Package stopwords is already up-to-date!\n"
          ],
          "name": "stdout"
        }
      ]
    },
    {
      "cell_type": "code",
      "metadata": {
        "id": "Wu4iX2aiMkPg"
      },
      "source": [
        "PUNCT = punctuation + '«»--—…“”*№–'\n",
        "MORPH = pymorphy2.MorphAnalyzer()\n",
        "STOP = stopwords.words('russian')"
      ],
      "execution_count": 173,
      "outputs": []
    },
    {
      "cell_type": "code",
      "metadata": {
        "id": "creFzqfwMpjd"
      },
      "source": [
        "def preproc_text(text):\n",
        "    clean_text = re.sub(r'<.*>', '', text)\n",
        "    clean_text = ' '.join([word.strip(PUNCT) for word in clean_text.lower().split() if word not in STOP])\n",
        "    tokens = list(tokenize(clean_text))\n",
        "    lemmas = ' '.join([MORPH.parse(word.text)[0].normal_form for word in tokens])\n",
        "    return lemmas"
      ],
      "execution_count": 174,
      "outputs": []
    },
    {
      "cell_type": "markdown",
      "metadata": {
        "id": "-wx-QqlZNWh0"
      },
      "source": [
        "Проверим функцию:"
      ]
    },
    {
      "cell_type": "code",
      "metadata": {
        "colab": {
          "base_uri": "https://localhost:8080/",
          "height": 35
        },
        "id": "WLZ_YqHaNZ9a",
        "outputId": "11e05fdd-80dc-4660-8cfa-d9c36bd7d220"
      },
      "source": [
        "preproc_text('Это секрет, но я люблю шоколадки :) И сайт <html://смешные-коты.рф>!!!')"
      ],
      "execution_count": 175,
      "outputs": [
        {
          "output_type": "execute_result",
          "data": {
            "application/vnd.google.colaboratory.intrinsic+json": {
              "type": "string"
            },
            "text/plain": [
              "'это секрет любить шоколадка сайт'"
            ]
          },
          "metadata": {
            "tags": []
          },
          "execution_count": 175
        }
      ]
    },
    {
      "cell_type": "markdown",
      "metadata": {
        "id": "agBrBpxHPgBM"
      },
      "source": [
        "Теперь смело применим её ко всем нашим текстам датасета"
      ]
    },
    {
      "cell_type": "code",
      "metadata": {
        "id": "DVcyIU_0Pc6G"
      },
      "source": [
        "lemmas = [preproc_text(text) for text in df.text]"
      ],
      "execution_count": 176,
      "outputs": []
    },
    {
      "cell_type": "markdown",
      "metadata": {
        "id": "QEgXimycP52Q"
      },
      "source": [
        "## RAKE"
      ]
    },
    {
      "cell_type": "code",
      "metadata": {
        "colab": {
          "base_uri": "https://localhost:8080/"
        },
        "id": "Kn2X5yrvmTmQ",
        "outputId": "0ae26810-c60b-4c2f-c9cf-d8e867173cab"
      },
      "source": [
        "!pip install python-rake"
      ],
      "execution_count": 177,
      "outputs": [
        {
          "output_type": "stream",
          "text": [
            "Requirement already satisfied: python-rake in /usr/local/lib/python3.6/dist-packages (1.5.0)\n"
          ],
          "name": "stdout"
        }
      ]
    },
    {
      "cell_type": "code",
      "metadata": {
        "id": "x1yVXbV0-OKF"
      },
      "source": [
        "import RAKE"
      ],
      "execution_count": 178,
      "outputs": []
    },
    {
      "cell_type": "code",
      "metadata": {
        "id": "-26Bkj7q-g6l"
      },
      "source": [
        "rake = RAKE.Rake(STOP)"
      ],
      "execution_count": 179,
      "outputs": []
    },
    {
      "cell_type": "code",
      "metadata": {
        "colab": {
          "base_uri": "https://localhost:8080/"
        },
        "id": "jqfb3WVogjJ2",
        "outputId": "3f694ee2-1311-49ce-f5b5-ff97241414cf"
      },
      "source": [
        "rake.run(lemmas[3], maxWords=3, minFrequency=1)"
      ],
      "execution_count": 180,
      "outputs": [
        {
          "output_type": "execute_result",
          "data": {
            "text/plain": [
              "[('напротив мешать', 4.0),\n",
              " ('это происходить', 4.0),\n",
              " ('право ошибка', 4.0),\n",
              " ('ошибаться', 1.0),\n",
              " ('поддержать', 1.0)]"
            ]
          },
          "metadata": {
            "tags": []
          },
          "execution_count": 180
        }
      ]
    },
    {
      "cell_type": "markdown",
      "metadata": {
        "id": "UvHBW-5VgqAv"
      },
      "source": [
        "Исключим слово \"это\" из списка стоп-слов"
      ]
    },
    {
      "cell_type": "code",
      "metadata": {
        "id": "ZKr4MYLpgtP3"
      },
      "source": [
        "STOP.append(\"это\")\n",
        "rake = RAKE.Rake(STOP)"
      ],
      "execution_count": 181,
      "outputs": []
    },
    {
      "cell_type": "code",
      "metadata": {
        "id": "u0455Jsu_DxM"
      },
      "source": [
        "keywords_rake = [rake.run(text, maxWords=3, minFrequency=1) for text in lemmas]"
      ],
      "execution_count": 182,
      "outputs": []
    },
    {
      "cell_type": "code",
      "metadata": {
        "id": "xVcPBzts-wUO"
      },
      "source": [
        "df['keywords_rake'] = keywords_rake"
      ],
      "execution_count": 183,
      "outputs": []
    },
    {
      "cell_type": "code",
      "metadata": {
        "id": "7SNMYZfKiFGc"
      },
      "source": [
        "df['keywords_rake'] = df['keywords_rake'].apply(lambda x: [i[0] for i in x])"
      ],
      "execution_count": 184,
      "outputs": []
    },
    {
      "cell_type": "markdown",
      "metadata": {
        "id": "dmsu0JZTczrb"
      },
      "source": [
        "## TextRank"
      ]
    },
    {
      "cell_type": "code",
      "metadata": {
        "colab": {
          "base_uri": "https://localhost:8080/"
        },
        "id": "-yTV7PIam4rU",
        "outputId": "b16c9e75-55c7-4d56-d96a-c9751f602717"
      },
      "source": [
        "!pip install summa"
      ],
      "execution_count": 185,
      "outputs": [
        {
          "output_type": "stream",
          "text": [
            "Requirement already satisfied: summa in /usr/local/lib/python3.6/dist-packages (1.2.0)\n",
            "Requirement already satisfied: scipy>=0.19 in /usr/local/lib/python3.6/dist-packages (from summa) (1.4.1)\n",
            "Requirement already satisfied: numpy>=1.13.3 in /usr/local/lib/python3.6/dist-packages (from scipy>=0.19->summa) (1.18.5)\n"
          ],
          "name": "stdout"
        }
      ]
    },
    {
      "cell_type": "code",
      "metadata": {
        "id": "oRacQejKdIoW"
      },
      "source": [
        "from summa import keywords"
      ],
      "execution_count": 186,
      "outputs": []
    },
    {
      "cell_type": "code",
      "metadata": {
        "colab": {
          "base_uri": "https://localhost:8080/"
        },
        "id": "qTO6JJoWdl25",
        "outputId": "6d02bc83-abca-4599-98a0-e930aed3bd56"
      },
      "source": [
        "keywords.keywords(lemmas[0], language='russian', additional_stopwords=STOP, scores=True)"
      ],
      "execution_count": 187,
      "outputs": [
        {
          "output_type": "execute_result",
          "data": {
            "text/plain": [
              "[('свой', 0.36476945597253496),\n",
              " ('ким кардашьян', 0.22550169046543894),\n",
              " ('который', 0.22160408035432788),\n",
              " ('спина', 0.19138356509144538),\n",
              " ('оставаться', 0.15097391196958726),\n",
              " ('наряд звезда', 0.14927020195326218),\n",
              " ('время', 0.1444509409391609),\n",
              " ('белый платье', 0.1259056747512247),\n",
              " ('фигура бодить', 0.12206072353096112),\n",
              " ('жить', 0.11887647355578929),\n",
              " ('канье уэст', 0.1114853104082413),\n",
              " ('жизнь', 0.10387029653134708),\n",
              " ('корректировать бельё', 0.0955159959898951),\n",
              " ('примерить', 0.09235230548066083),\n",
              " ('роскошный', 0.09169549257578868),\n",
              " ('роскошно', 0.09169549257578868),\n",
              " ('часть', 0.08942600694181793),\n",
              " ('сообщать', 0.08727311859739903),\n",
              " ('пара', 0.08528064947739136),\n",
              " ('стараться', 0.08053425948297199),\n",
              " ('окружение', 0.07923988822797377),\n",
              " ('приклеивать', 0.0776862225709352),\n",
              " ('проблема', 0.07621854154938469),\n",
              " ('семейство', 0.07291922744888442),\n",
              " ('изгиб', 0.07276184475196058),\n",
              " ('оба казаться', 0.07266010659165775),\n",
              " ('летний', 0.07060435590183409),\n",
              " ('столько', 0.06735936111752124),\n",
              " ('делать', 0.06559317348517568),\n",
              " ('хотеть', 0.06373685742588073),\n",
              " ('ребёнок', 0.059926739812594075),\n",
              " ('низко', 0.05911003040539359),\n",
              " ('красотка дело', 0.058919031338517905),\n",
              " ('близкий', 0.05882326594389227),\n",
              " ('очень низкий', 0.058799520127738245),\n",
              " ('отметить', 0.055726999135642864)]"
            ]
          },
          "metadata": {
            "tags": []
          },
          "execution_count": 187
        }
      ]
    },
    {
      "cell_type": "markdown",
      "metadata": {
        "id": "EsTPO8THi2tD"
      },
      "source": [
        "Также исключим слово \"который\""
      ]
    },
    {
      "cell_type": "code",
      "metadata": {
        "id": "dZS_mds2iyQ6"
      },
      "source": [
        "STOP.append(\"который\")"
      ],
      "execution_count": 188,
      "outputs": []
    },
    {
      "cell_type": "code",
      "metadata": {
        "id": "McHjwIBaeWvq"
      },
      "source": [
        "keywords_textrank = [keywords.keywords(text, language='russian', additional_stopwords=STOP, scores=True) for text in lemmas]\n",
        "df['keywords_textrank'] = keywords_textrank"
      ],
      "execution_count": 189,
      "outputs": []
    },
    {
      "cell_type": "code",
      "metadata": {
        "id": "4BmZcPB1iWpW"
      },
      "source": [
        "df['keywords_textrank'] = df['keywords_textrank'].apply(lambda x: [i[0] for i in x])"
      ],
      "execution_count": 190,
      "outputs": []
    },
    {
      "cell_type": "markdown",
      "metadata": {
        "id": "LSXG_WokiFTb"
      },
      "source": [
        "## TF-IDF"
      ]
    },
    {
      "cell_type": "code",
      "metadata": {
        "id": "RDbngj51nCxJ"
      },
      "source": [
        "import numpy as np\n",
        "from sklearn.feature_extraction.text import TfidfVectorizer"
      ],
      "execution_count": 191,
      "outputs": []
    },
    {
      "cell_type": "code",
      "metadata": {
        "id": "-P3EdJnuHFIH"
      },
      "source": [
        "vectorizer = TfidfVectorizer(stop_words=STOP)"
      ],
      "execution_count": 192,
      "outputs": []
    },
    {
      "cell_type": "markdown",
      "metadata": {
        "id": "jVACMDOLPjeD"
      },
      "source": [
        "Пример"
      ]
    },
    {
      "cell_type": "code",
      "metadata": {
        "colab": {
          "base_uri": "https://localhost:8080/"
        },
        "id": "tQrc4VI9Etsd",
        "outputId": "2df38597-5a5e-4d1c-8298-d6b260e350a5"
      },
      "source": [
        "X = vectorizer.fit_transform([lemmas[0]])\n",
        "feature_names = np.array(vectorizer.get_feature_names())\n",
        "denselist = np.array(X.todense())\n",
        "indices = denselist.argsort()[0]\n",
        "feature_names[indices[::-1][:10]]"
      ],
      "execution_count": 193,
      "outputs": [
        {
          "output_type": "execute_result",
          "data": {
            "text/plain": [
              "array(['свой', 'ким', 'канье', 'платье', 'спина', 'звезда', 'кардашьян',\n",
              "       'время', 'бодить', 'корректировать'], dtype='<U18')"
            ]
          },
          "metadata": {
            "tags": []
          },
          "execution_count": 193
        }
      ]
    },
    {
      "cell_type": "markdown",
      "metadata": {
        "id": "mx22-oDXPJx_"
      },
      "source": [
        "Возьмём по 10 слов для каждого текста"
      ]
    },
    {
      "cell_type": "code",
      "metadata": {
        "id": "ERh1rIi2lsyq"
      },
      "source": [
        "keywords_tfidf = []\n",
        "\n",
        "for sent in lemmas:\n",
        "    X = vectorizer.fit_transform([sent])\n",
        "    feature_names = np.array(vectorizer.get_feature_names())\n",
        "    denselist = np.array(X.todense())\n",
        "    indices = denselist.argsort()[0]\n",
        "    keywords_tfidf.append(feature_names[indices[::-1][:10]])"
      ],
      "execution_count": 209,
      "outputs": []
    },
    {
      "cell_type": "code",
      "metadata": {
        "id": "q9rqSESXPy8Y"
      },
      "source": [
        "df['keywords_tfidf'] = keywords_tfidf"
      ],
      "execution_count": 217,
      "outputs": []
    },
    {
      "cell_type": "code",
      "metadata": {
        "id": "vNQ2Mst-CINm"
      },
      "source": [
        "df['keywords_textrank'] = df['keywords_textrank'].apply(lambda x: list(x))"
      ],
      "execution_count": 218,
      "outputs": []
    },
    {
      "cell_type": "markdown",
      "metadata": {
        "id": "yjt8lYAbjc9C"
      },
      "source": [
        "# Морфологические/синтаксические шаблоны для ключевых слов и фраз"
      ]
    },
    {
      "cell_type": "markdown",
      "metadata": {
        "id": "Edc5fcT7Sg0z"
      },
      "source": [
        "Попробуем использовать шаблоны Adj+Noun и Noun+Noun, помимо просто Noun"
      ]
    },
    {
      "cell_type": "code",
      "metadata": {
        "id": "NWI4qWp8w-lZ"
      },
      "source": [
        "TEMPLATES = [['NOUN'], ['NOUN', 'NOUN'], ['ADJF', 'NOUN']]"
      ],
      "execution_count": 197,
      "outputs": []
    },
    {
      "cell_type": "code",
      "metadata": {
        "id": "Pr807Mxuj18S"
      },
      "source": [
        "def pos_keywords(keywords):\n",
        "    pos_tags = [[MORPH.parse(w)[0].tag.POS for w in words.split()] for words in keywords]\n",
        "    res = [words for i, words in enumerate(keywords) if pos_tags[i] in TEMPLATES]\n",
        "    return res"
      ],
      "execution_count": 198,
      "outputs": []
    },
    {
      "cell_type": "markdown",
      "metadata": {
        "id": "EKRgdW8iyD2v"
      },
      "source": [
        "Проверим функцию"
      ]
    },
    {
      "cell_type": "code",
      "metadata": {
        "colab": {
          "base_uri": "https://localhost:8080/"
        },
        "id": "N-91y5qayCo-",
        "outputId": "52e5c3c3-f133-498d-ce7f-9dbfa71a6994"
      },
      "source": [
        "pos_keywords(['хотеть спать', 'красивый наряд', 'кот', 'кот грустно', 'Ким Кардашьян'])"
      ],
      "execution_count": 199,
      "outputs": [
        {
          "output_type": "execute_result",
          "data": {
            "text/plain": [
              "['красивый наряд', 'кот', 'Ким Кардашьян']"
            ]
          },
          "metadata": {
            "tags": []
          },
          "execution_count": 199
        }
      ]
    },
    {
      "cell_type": "code",
      "metadata": {
        "id": "AqAaIBGyyeaz"
      },
      "source": [
        "df['keywords_rake_POS'] = df['keywords_rake'].apply(lambda x: pos_keywords(x))\n",
        "df['keywords_textrank_POS'] = df['keywords_textrank'].apply(lambda x: pos_keywords(x))\n",
        "df['keywords_tfidf_POS'] = df['keywords_tfidf'].apply(lambda x: pos_keywords(x))"
      ],
      "execution_count": 220,
      "outputs": []
    },
    {
      "cell_type": "code",
      "metadata": {
        "colab": {
          "base_uri": "https://localhost:8080/",
          "height": 779
        },
        "id": "xEeZvu6Tzbgv",
        "outputId": "d0cb232f-e823-4cdd-80a1-19a9acc5c845"
      },
      "source": [
        "df"
      ],
      "execution_count": 221,
      "outputs": [
        {
          "output_type": "execute_result",
          "data": {
            "text/html": [
              "<div>\n",
              "<style scoped>\n",
              "    .dataframe tbody tr th:only-of-type {\n",
              "        vertical-align: middle;\n",
              "    }\n",
              "\n",
              "    .dataframe tbody tr th {\n",
              "        vertical-align: top;\n",
              "    }\n",
              "\n",
              "    .dataframe thead th {\n",
              "        text-align: right;\n",
              "    }\n",
              "</style>\n",
              "<table border=\"1\" class=\"dataframe\">\n",
              "  <thead>\n",
              "    <tr style=\"text-align: right;\">\n",
              "      <th></th>\n",
              "      <th>text</th>\n",
              "      <th>keywords</th>\n",
              "      <th>my_keywords</th>\n",
              "      <th>text_len</th>\n",
              "      <th>etalon_keywords</th>\n",
              "      <th>keywords_rake</th>\n",
              "      <th>keywords_textrank</th>\n",
              "      <th>keywords_tfidf</th>\n",
              "      <th>keywords_rake_POS</th>\n",
              "      <th>keywords_textrank_POS</th>\n",
              "      <th>keywords_tfidf_POS</th>\n",
              "    </tr>\n",
              "  </thead>\n",
              "  <tbody>\n",
              "    <tr>\n",
              "      <th>0</th>\n",
              "      <td>40-летняя теледива сняла провокационные кадры ...</td>\n",
              "      <td>Ким Кардашьян, Канье Уэст, звездные семьи, сем...</td>\n",
              "      <td>Ким Кардашьян, наряд, Канье Уэст, развод</td>\n",
              "      <td>445</td>\n",
              "      <td>[семейство кардашьян, наряд, звёздный семья, к...</td>\n",
              "      <td>[столько секс, делать ребёнок, казаться беспок...</td>\n",
              "      <td>[свой, ким кардашьян, спина, оставаться, время...</td>\n",
              "      <td>[свой, ким, канье, платье, спина, звезда, кард...</td>\n",
              "      <td>[]</td>\n",
              "      <td>[ким кардашьян, спина, время, наряд звезда, бе...</td>\n",
              "      <td>[ким, канье, платье, спина, звезда, кардашьян,...</td>\n",
              "    </tr>\n",
              "    <tr>\n",
              "      <th>1</th>\n",
              "      <td>Для кого мы придумали Школу женского здоровья?...</td>\n",
              "      <td>женское здоровье, аборт, менструация, беременн...</td>\n",
              "      <td>женщины, школа женского здоровья, медицина, бе...</td>\n",
              "      <td>513</td>\n",
              "      <td>[беременность, женский здоровье, аборт, менстр...</td>\n",
              "      <td>[поддаваться коррекция знать]</td>\n",
              "      <td>[здоровый, школа женский здоровье, забота свой...</td>\n",
              "      <td>[здоровье, женский, свой, женщина, репродуктив...</td>\n",
              "      <td>[]</td>\n",
              "      <td>[девушка женщина, задача, возраст заболевание,...</td>\n",
              "      <td>[здоровье, женщина, задача, партнёр, программа...</td>\n",
              "    </tr>\n",
              "    <tr>\n",
              "      <th>2</th>\n",
              "      <td>Каждой маме знакомо это чувство: кажется, что ...</td>\n",
              "      <td>женщины, дети, материнство, психология, что де...</td>\n",
              "      <td>женщины, материнство, дети, выгорание, усталос...</td>\n",
              "      <td>1061</td>\n",
              "      <td>[материнство, выгорание, ребёнок, помощь, дела...</td>\n",
              "      <td>[каждый мама знакомый, далее желательно труд, ...</td>\n",
              "      <td>[справляться ребёнок собственный жизнь, сила, ...</td>\n",
              "      <td>[ребёнок, свой, мать, твой, время, сила, женщи...</td>\n",
              "      <td>[дело проблема, дело, выгорание, норма, мать]</td>\n",
              "      <td>[сила, хороший мать, женщина, мочь, уход, особ...</td>\n",
              "      <td>[ребёнок, мать, время, сила, женщина, дело, мочь]</td>\n",
              "    </tr>\n",
              "    <tr>\n",
              "      <th>3</th>\n",
              "      <td>Как побороть лень, апатию и усталость?\\r\\nБыст...</td>\n",
              "      <td>эмоциональное выгорание, лень, борьба с устало...</td>\n",
              "      <td>хроническая усталость, лень, апатия, мотивация...</td>\n",
              "      <td>1084</td>\n",
              "      <td>[эмоциональный выгорание, хронический усталост...</td>\n",
              "      <td>[напротив мешать, право ошибка, происходить, о...</td>\n",
              "      <td>[свой, задача, помогать, часто, дело, время, а...</td>\n",
              "      <td>[усталость, задача, свой, дело, помогать, част...</td>\n",
              "      <td>[право ошибка]</td>\n",
              "      <td>[задача, дело, время, работа, перфекционизм, с...</td>\n",
              "      <td>[усталость, задача, дело, работа, время, апати...</td>\n",
              "    </tr>\n",
              "    <tr>\n",
              "      <th>4</th>\n",
              "      <td>38-летний иллюзионист Сергей Сафронов был со с...</td>\n",
              "      <td>Ольга Бузова, Сергей Сафронов, скандалы, Битва...</td>\n",
              "      <td>Алина Вердиш, Сергей Сафронов, победа, ТНТ, Би...</td>\n",
              "      <td>352</td>\n",
              "      <td>[тнт, победа, битва экстрасенс, скандал, ольга...</td>\n",
              "      <td>[воротников ведьма]</td>\n",
              "      <td>[алин, иллюзионист сергей сафронов, алина верд...</td>\n",
              "      <td>[сафронов, экстрасенс, сергей, шоу, алина, илл...</td>\n",
              "      <td>[воротников ведьма]</td>\n",
              "      <td>[алин, алина вердиш, тысяча, брат, черта, чёрт...</td>\n",
              "      <td>[сафронов, экстрасенс, сергей, шоу, алина, илл...</td>\n",
              "    </tr>\n",
              "    <tr>\n",
              "      <th>5</th>\n",
              "      <td>41-летняя Виктория Боня выступила против массо...</td>\n",
              "      <td>Виктория Боня, коронавирус, COVID-19, пандемия</td>\n",
              "      <td>Виктория Боня, коронавирус, прививка, ВОЗ</td>\n",
              "      <td>229</td>\n",
              "      <td>[воз, коронавирус, covid-19, виктория бонить, ...</td>\n",
              "      <td>[который принадлежать воз, приходить полиция и...</td>\n",
              "      <td>[виктория бонить, прививка, считать, вакцина, ...</td>\n",
              "      <td>[бонить, прививка, виктория, говорить, считать...</td>\n",
              "      <td>[вакцинация, пофига]</td>\n",
              "      <td>[виктория бонить, прививка, вакцина, пандемия]</td>\n",
              "      <td>[бонить, прививка, виктория, коронавирус, вакц...</td>\n",
              "    </tr>\n",
              "    <tr>\n",
              "      <th>6</th>\n",
              "      <td>При поисковом запросе «диета Протасова» Google...</td>\n",
              "      <td>здоровье, похудение, рецепты, диета</td>\n",
              "      <td>похудение, диета, Ким Протасов, Ганна</td>\n",
              "      <td>201</td>\n",
              "      <td>[похудение, рецепт, ким протас, здоровье, диет...</td>\n",
              "      <td>[равно придумать, сколько год]</td>\n",
              "      <td>[протас, диета протасов, ганна, популярный, по...</td>\n",
              "      <td>[диета, протасов, ким, ганна, имя, год, протас...</td>\n",
              "      <td>[]</td>\n",
              "      <td>[протас, диета протасов, ганна, популярность, ...</td>\n",
              "      <td>[диета, протасов, ким, ганна, имя, год, протас...</td>\n",
              "    </tr>\n",
              "  </tbody>\n",
              "</table>\n",
              "</div>"
            ],
            "text/plain": [
              "                                                text  ...                                 keywords_tfidf_POS\n",
              "0  40-летняя теледива сняла провокационные кадры ...  ...  [ким, канье, платье, спина, звезда, кардашьян,...\n",
              "1  Для кого мы придумали Школу женского здоровья?...  ...  [здоровье, женщина, задача, партнёр, программа...\n",
              "2  Каждой маме знакомо это чувство: кажется, что ...  ...  [ребёнок, мать, время, сила, женщина, дело, мочь]\n",
              "3  Как побороть лень, апатию и усталость?\\r\\nБыст...  ...  [усталость, задача, дело, работа, время, апати...\n",
              "4  38-летний иллюзионист Сергей Сафронов был со с...  ...  [сафронов, экстрасенс, сергей, шоу, алина, илл...\n",
              "5  41-летняя Виктория Боня выступила против массо...  ...  [бонить, прививка, виктория, коронавирус, вакц...\n",
              "6  При поисковом запросе «диета Протасова» Google...  ...  [диета, протасов, ким, ганна, имя, год, протас...\n",
              "\n",
              "[7 rows x 11 columns]"
            ]
          },
          "metadata": {
            "tags": []
          },
          "execution_count": 221
        }
      ]
    },
    {
      "cell_type": "markdown",
      "metadata": {
        "id": "ZFIdVvhSznvR"
      },
      "source": [
        "Теперь, к сожалению из RAKE пропали почти все слова( Но, кажется, что их было мало и в самом начале, поэтому стоит внимательнее изучить, что произошло, при дальнейшем анализе."
      ]
    },
    {
      "cell_type": "markdown",
      "metadata": {
        "id": "CeBFhVM70BcF"
      },
      "source": [
        "# Посчитаем нужные метрики"
      ]
    },
    {
      "cell_type": "markdown",
      "metadata": {
        "id": "ccurKqY8OhP5"
      },
      "source": [
        "Эталонные ключевые слова для корректности подсчёта необходимо нормализовать тем же методом, который был применён для самиъ текстов. Помимо того, что слова в эталонных тегах не стоят в начальной форме, в ключевые попали нестандартные слова, как, например, фамилия Боня, которая нормализуется в бонить. При одинаковой нормализации и эталонного набора ключевых слов проблем в расхождении не будет."
      ]
    },
    {
      "cell_type": "code",
      "metadata": {
        "id": "tdt9S1QUg5p-"
      },
      "source": [
        "df['etalon_keywords'] = df['etalon_keywords'].apply(lambda x: [preproc_text(text) for text in x])"
      ],
      "execution_count": 202,
      "outputs": []
    },
    {
      "cell_type": "code",
      "metadata": {
        "colab": {
          "base_uri": "https://localhost:8080/"
        },
        "id": "UDbYRhFIhbGY",
        "outputId": "83a15774-5c17-44ef-c814-d186ce2aece8"
      },
      "source": [
        "df['etalon_keywords']"
      ],
      "execution_count": 203,
      "outputs": [
        {
          "output_type": "execute_result",
          "data": {
            "text/plain": [
              "0    [семейство кардашьян, наряд, звёздный семья, к...\n",
              "1    [беременность, женский здоровье, аборт, менстр...\n",
              "2    [материнство, выгорание, ребёнок, помощь, дела...\n",
              "3    [эмоциональный выгорание, хронический усталост...\n",
              "4    [тнт, победа, битва экстрасенс, скандал, ольга...\n",
              "5    [воз, коронавирус, covid-19, виктория бонить, ...\n",
              "6    [похудение, рецепт, ким протас, здоровье, диет...\n",
              "Name: etalon_keywords, dtype: object"
            ]
          },
          "metadata": {
            "tags": []
          },
          "execution_count": 203
        }
      ]
    },
    {
      "cell_type": "markdown",
      "metadata": {
        "id": "elbiM1KOGNBY"
      },
      "source": [
        "Также добавим отдельный столбик для применения шаблона к нашему эталону:"
      ]
    },
    {
      "cell_type": "code",
      "metadata": {
        "id": "O-EDMSzaGTdf"
      },
      "source": [
        "df['etalon_keywords_POS'] = df['etalon_keywords'].apply(lambda x: pos_keywords(x))"
      ],
      "execution_count": 239,
      "outputs": []
    },
    {
      "cell_type": "code",
      "metadata": {
        "id": "y9QyoG4xjrK3"
      },
      "source": [
        "def count_precision(etalon_keywords, pred):\n",
        "    return np.intersect1d(etalon_keywords, pred).shape[0] / len(pred) if pred else 0\n",
        "\n",
        "def count_recall(etalon_keywords, pred):\n",
        "    return np.intersect1d(etalon_keywords, pred).shape[0] / len(etalon_keywords) if etalon_keywords else 0\n",
        "\n",
        "def count_f1_score(etalon_keywords, pred):\n",
        "    precision = count_precision(etalon_keywords, pred)\n",
        "    recall = count_recall(etalon_keywords, pred)\n",
        "    return 2 * precision * recall / (precision + recall) if precision + recall != 0 else 0"
      ],
      "execution_count": 204,
      "outputs": []
    },
    {
      "cell_type": "code",
      "metadata": {
        "id": "P5ApPmqbv7MV"
      },
      "source": [
        "df_results = pd.DataFrame(columns=['method', 'precision', 'recall', 'f1 score'])"
      ],
      "execution_count": 222,
      "outputs": []
    },
    {
      "cell_type": "code",
      "metadata": {
        "id": "uqSlpp43wnsl"
      },
      "source": [
        "METHODS = ['keywords_rake', 'keywords_rake_POS', 'keywords_textrank', \n",
        "           'keywords_textrank_POS', 'keywords_tfidf', 'keywords_tfidf_POS']"
      ],
      "execution_count": 230,
      "outputs": []
    },
    {
      "cell_type": "code",
      "metadata": {
        "id": "N7cbfCp8xLP0"
      },
      "source": [
        "for i, method in enumerate(METHODS):\n",
        "    etalon_keywords = 'etalon_keywords_POS' if method.endswith('POS') else 'etalon_keywords'\n",
        "    precision = []\n",
        "    recall = []\n",
        "    f1_score = []\n",
        "\n",
        "    for j in range(len(lemmas)):\n",
        "        precision.append(count_precision(df[etalon_keywords][j], list(df[method][j])))\n",
        "        recall.append(count_recall(df[etalon_keywords][j], list(df[method][j])))\n",
        "        f1_score.append(count_f1_score(df[etalon_keywords][j], list(df[method][j])))\n",
        "    \n",
        "    df_results.loc[i] = [method, np.array(precision).mean(), \n",
        "                         np.array(recall).mean(), np.array(f1_score).mean()]"
      ],
      "execution_count": 240,
      "outputs": []
    },
    {
      "cell_type": "code",
      "metadata": {
        "colab": {
          "base_uri": "https://localhost:8080/",
          "height": 235
        },
        "id": "qU4Y_RDPA29D",
        "outputId": "e952c318-6023-46b0-f966-e3c5c81d3520"
      },
      "source": [
        "df_results"
      ],
      "execution_count": 241,
      "outputs": [
        {
          "output_type": "execute_result",
          "data": {
            "text/html": [
              "<div>\n",
              "<style scoped>\n",
              "    .dataframe tbody tr th:only-of-type {\n",
              "        vertical-align: middle;\n",
              "    }\n",
              "\n",
              "    .dataframe tbody tr th {\n",
              "        vertical-align: top;\n",
              "    }\n",
              "\n",
              "    .dataframe thead th {\n",
              "        text-align: right;\n",
              "    }\n",
              "</style>\n",
              "<table border=\"1\" class=\"dataframe\">\n",
              "  <thead>\n",
              "    <tr style=\"text-align: right;\">\n",
              "      <th></th>\n",
              "      <th>method</th>\n",
              "      <th>precision</th>\n",
              "      <th>recall</th>\n",
              "      <th>f1 score</th>\n",
              "    </tr>\n",
              "  </thead>\n",
              "  <tbody>\n",
              "    <tr>\n",
              "      <th>0</th>\n",
              "      <td>keywords_rake</td>\n",
              "      <td>0.015873</td>\n",
              "      <td>0.035714</td>\n",
              "      <td>0.021978</td>\n",
              "    </tr>\n",
              "    <tr>\n",
              "      <th>1</th>\n",
              "      <td>keywords_rake_POS</td>\n",
              "      <td>0.028571</td>\n",
              "      <td>0.020408</td>\n",
              "      <td>0.023810</td>\n",
              "    </tr>\n",
              "    <tr>\n",
              "      <th>2</th>\n",
              "      <td>keywords_textrank</td>\n",
              "      <td>0.081240</td>\n",
              "      <td>0.354025</td>\n",
              "      <td>0.128203</td>\n",
              "    </tr>\n",
              "    <tr>\n",
              "      <th>3</th>\n",
              "      <td>keywords_textrank_POS</td>\n",
              "      <td>0.205650</td>\n",
              "      <td>0.338549</td>\n",
              "      <td>0.232613</td>\n",
              "    </tr>\n",
              "    <tr>\n",
              "      <th>4</th>\n",
              "      <td>keywords_tfidf</td>\n",
              "      <td>0.142857</td>\n",
              "      <td>0.204365</td>\n",
              "      <td>0.166980</td>\n",
              "    </tr>\n",
              "    <tr>\n",
              "      <th>5</th>\n",
              "      <td>keywords_tfidf_POS</td>\n",
              "      <td>0.195011</td>\n",
              "      <td>0.226304</td>\n",
              "      <td>0.206463</td>\n",
              "    </tr>\n",
              "  </tbody>\n",
              "</table>\n",
              "</div>"
            ],
            "text/plain": [
              "                  method  precision    recall  f1 score\n",
              "0          keywords_rake   0.015873  0.035714  0.021978\n",
              "1      keywords_rake_POS   0.028571  0.020408  0.023810\n",
              "2      keywords_textrank   0.081240  0.354025  0.128203\n",
              "3  keywords_textrank_POS   0.205650  0.338549  0.232613\n",
              "4         keywords_tfidf   0.142857  0.204365  0.166980\n",
              "5     keywords_tfidf_POS   0.195011  0.226304  0.206463"
            ]
          },
          "metadata": {
            "tags": []
          },
          "execution_count": 241
        }
      ]
    },
    {
      "cell_type": "markdown",
      "metadata": {
        "id": "7aGTpU_GC49C"
      },
      "source": [
        "# Анализ результатов"
      ]
    },
    {
      "cell_type": "markdown",
      "metadata": {
        "id": "ytFk9xLDDG3_"
      },
      "source": [
        "Результаты оказываются сравнительно низкими, однако видна тенденция улучшения в сторону методов, использующих морфосинтаксические шаблоны. Таким образом, первым шагом к улучшению качества алгоритмов может стать донастройка таких шаблонов.\n",
        "\n",
        "Наиболее низкие результаты наблюдается для алгоритма RAKE, в который включаются лишние слова, не относящиеся к конкретному тексту. В первую очередь это глаголы типа \"казаться\", что привело к тому, что в результате применения морфосинтаксических шаблонов для некоторых текстов ключевых слов не осталось совсем). Можно попробовать выделить отдельный список стоп-слов, специфичных для всех текстов из данного ресурса. При таком подходе в результате работы алгоритма останутся только действительно специфичные для конкретного текста слова.\n",
        "\n",
        "Кажется, что основную проблему вызвала специфичность текстов статей. Большинство текстов посвящается конкретным личностям, но для избежания повторений в тексте используются различные референции к персонажу: имя + фамилия, вариации имени, род деятельности человека и т.д., эквивалентность которых игнорируется алгоритмом. Можно было бы пересмотреть эталонную разметку исходя из кореферентности и добавить все возможные слова и словосочетания, однако кажется, что более правильным решением является подключение инструментов для разрешения кореферентности.\n",
        "\n",
        "Ещё можно было бы подробнее изучить специфику жанра выбранных текстов. Кажется, что короткие статьи в интернет-журналах/газетах тяготеют к вынесению основной информации в начало текста, чтобы привлечь внимание читателя и сразу же удержать его. А потому можно было бы попробовать присваивать больший вес словам из начала текста исходя из какой-либо эвристики.\n"
      ]
    }
  ]
}
