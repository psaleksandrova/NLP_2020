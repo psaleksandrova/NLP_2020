{
  "nbformat": 4,
  "nbformat_minor": 0,
  "metadata": {
    "colab": {
      "name": "HW2.ipynb",
      "provenance": []
    },
    "kernelspec": {
      "name": "python3",
      "display_name": "Python 3"
    }
  },
  "cells": [
    {
      "cell_type": "markdown",
      "metadata": {
        "id": "KIb9IyRiCydF"
      },
      "source": [
        "## Подготовка данных"
      ]
    },
    {
      "cell_type": "markdown",
      "metadata": {
        "id": "_0EIii1VCHXb"
      },
      "source": [
        "В качестве корпуса я выбрала Home & Kitchen product reviews (991,794 reviews)"
      ]
    },
    {
      "cell_type": "code",
      "metadata": {
        "colab": {
          "base_uri": "https://localhost:8080/"
        },
        "id": "b7k_gj6H6E0_",
        "outputId": "132bdd9c-e5d6-448d-da9d-11ed6a45e7a6"
      },
      "source": [
        "!wget 'http://snap.stanford.edu/data/amazon/Home_&_Kitchen.txt.gz'"
      ],
      "execution_count": 1,
      "outputs": [
        {
          "output_type": "stream",
          "text": [
            "--2020-12-19 20:16:44--  http://snap.stanford.edu/data/amazon/Home_&_Kitchen.txt.gz\n",
            "Resolving snap.stanford.edu (snap.stanford.edu)... 171.64.75.80\n",
            "Connecting to snap.stanford.edu (snap.stanford.edu)|171.64.75.80|:80... connected.\n",
            "HTTP request sent, awaiting response... 200 OK\n",
            "Length: 223371335 (213M) [application/x-gzip]\n",
            "Saving to: ‘Home_&_Kitchen.txt.gz.1’\n",
            "\n",
            "Home_&_Kitchen.txt. 100%[===================>] 213.02M  1.70MB/s    in 1m 57s  \n",
            "\n",
            "2020-12-19 20:18:41 (1.82 MB/s) - ‘Home_&_Kitchen.txt.gz.1’ saved [223371335/223371335]\n",
            "\n"
          ],
          "name": "stdout"
        }
      ]
    },
    {
      "cell_type": "code",
      "metadata": {
        "colab": {
          "base_uri": "https://localhost:8080/"
        },
        "id": "TNX__5WyJg6Y",
        "outputId": "b15757f8-8c56-4b3f-d3d6-386e0a7bceec"
      },
      "source": [
        "!pip install simplejson"
      ],
      "execution_count": 2,
      "outputs": [
        {
          "output_type": "stream",
          "text": [
            "Requirement already satisfied: simplejson in /usr/local/lib/python3.6/dist-packages (3.17.2)\n"
          ],
          "name": "stdout"
        }
      ]
    },
    {
      "cell_type": "code",
      "metadata": {
        "id": "hYT2vvZPCRIt"
      },
      "source": [
        "import gzip\n",
        "import simplejson"
      ],
      "execution_count": 3,
      "outputs": []
    },
    {
      "cell_type": "code",
      "metadata": {
        "id": "lOJxb97yCTuL"
      },
      "source": [
        "def parse(filename):\n",
        "  f = gzip.open(filename, 'rt')\n",
        "  entry = {}\n",
        "  for l in f:\n",
        "    l = l.strip()\n",
        "    colonPos = l.find(':')\n",
        "    if colonPos == -1:\n",
        "      yield entry\n",
        "      entry = {}\n",
        "      continue\n",
        "    eName = l[:colonPos]\n",
        "    rest = l[colonPos+2:]\n",
        "    entry[eName] = rest\n",
        "  yield entry"
      ],
      "execution_count": 4,
      "outputs": []
    },
    {
      "cell_type": "code",
      "metadata": {
        "id": "C-Hz_8qgCllL"
      },
      "source": [
        "data = []\n",
        "for e in parse(\"Home_&_Kitchen.txt.gz\"):\n",
        "    data.append(simplejson.dumps(e))"
      ],
      "execution_count": 5,
      "outputs": []
    },
    {
      "cell_type": "code",
      "metadata": {
        "id": "C3Dcj7h4FQua"
      },
      "source": [
        "import pprint"
      ],
      "execution_count": 6,
      "outputs": []
    },
    {
      "cell_type": "code",
      "metadata": {
        "colab": {
          "base_uri": "https://localhost:8080/"
        },
        "id": "qIf_3n12FEa_",
        "outputId": "7824a200-9a27-4d7a-c7a5-9d36d64bf566"
      },
      "source": [
        "pprint.pprint(eval(data[204]))"
      ],
      "execution_count": 7,
      "outputs": [
        {
          "output_type": "stream",
          "text": [
            "{'product/price': '39.28',\n",
            " 'product/productId': 'B0000630NY',\n",
            " 'product/title': 'Anchor Hocking Presence Cake Dome Set',\n",
            " 'review/helpfulness': '1/2',\n",
            " 'review/profileName': 'Jodi \"Jodi\"',\n",
            " 'review/score': '3.0',\n",
            " 'review/summary': 'Very Pretty Cake Dome Set - Excellent Price',\n",
            " 'review/text': 'Very pretty and well made cake dome set. Love the way it '\n",
            "                \"looks. The only thing that I don't like is that the dome it \"\n",
            "                'pretty heavy.',\n",
            " 'review/time': '1258675200',\n",
            " 'review/userId': 'A27P6BODJVI95W'}\n"
          ],
          "name": "stdout"
        }
      ]
    },
    {
      "cell_type": "markdown",
      "metadata": {
        "id": "EHYZSPlRLpK0"
      },
      "source": [
        "Нормализуем текст и уберём ненужные нам поля.\n",
        "\n",
        "Для нашей задачи можно (и даже нужно) удалить ненужные символы вроде знаков препинания"
      ]
    },
    {
      "cell_type": "code",
      "metadata": {
        "colab": {
          "base_uri": "https://localhost:8080/"
        },
        "id": "ks86nouJM2PK",
        "outputId": "976b3619-f8f4-4883-86ac-feedcd9289d1"
      },
      "source": [
        "import re\n",
        "import nltk\n",
        "nltk.download('stopwords')\n",
        "nltk.download('punkt')\n",
        "nltk.download('wordnet')\n",
        "from nltk.corpus import stopwords\n",
        "from nltk.stem import WordNetLemmatizer"
      ],
      "execution_count": 8,
      "outputs": [
        {
          "output_type": "stream",
          "text": [
            "[nltk_data] Downloading package stopwords to /root/nltk_data...\n",
            "[nltk_data]   Package stopwords is already up-to-date!\n",
            "[nltk_data] Downloading package punkt to /root/nltk_data...\n",
            "[nltk_data]   Package punkt is already up-to-date!\n",
            "[nltk_data] Downloading package wordnet to /root/nltk_data...\n",
            "[nltk_data]   Package wordnet is already up-to-date!\n"
          ],
          "name": "stdout"
        }
      ]
    },
    {
      "cell_type": "code",
      "metadata": {
        "id": "1Zwild1VM92Q"
      },
      "source": [
        "REPLACE_BY_SPACE_RE = re.compile('[/(){}\\[\\]\\|@,;]')\n",
        "BAD_SYMBOLS_RE = re.compile('[^0-9a-z #+_]')\n",
        "STOPWORDS = set(stopwords.words('english'))\n",
        "LEMMATIZER = WordNetLemmatizer()"
      ],
      "execution_count": 9,
      "outputs": []
    },
    {
      "cell_type": "code",
      "metadata": {
        "id": "xStfsenTNZEB"
      },
      "source": [
        "def preproc_text(text):\n",
        "    text = text.lower()\n",
        "    text = re.sub(REPLACE_BY_SPACE_RE, ' ', text)\n",
        "    text = re.sub(BAD_SYMBOLS_RE, '', text)\n",
        "    clean_text = ' '.join([word for word in text.split() if word and word not in STOPWORDS])\n",
        "    tokens = list(nltk.word_tokenize(clean_text))\n",
        "    lemmas = ' '.join([LEMMATIZER.lemmatize(word) for word in tokens])\n",
        "    return lemmas"
      ],
      "execution_count": 10,
      "outputs": []
    },
    {
      "cell_type": "code",
      "metadata": {
        "colab": {
          "base_uri": "https://localhost:8080/",
          "height": 35
        },
        "id": "QFb-EG9VQGa_",
        "outputId": "7132ed5b-722e-4d9a-f82e-20f1994469c2"
      },
      "source": [
        "preproc_text('Anyone who buys lattes (plural) every day...')"
      ],
      "execution_count": 11,
      "outputs": [
        {
          "output_type": "execute_result",
          "data": {
            "application/vnd.google.colaboratory.intrinsic+json": {
              "type": "string"
            },
            "text/plain": [
              "'anyone buy latte plural every day'"
            ]
          },
          "metadata": {
            "tags": []
          },
          "execution_count": 11
        }
      ]
    },
    {
      "cell_type": "markdown",
      "metadata": {
        "id": "mX07Fip3s2-W"
      },
      "source": [
        "Также полезно будет оставить заголовки, для удобства оставим по одному отзыву на продукт (иначе выполнение некоторых процессов займёт у нас несколько часов)"
      ]
    },
    {
      "cell_type": "code",
      "metadata": {
        "id": "dugDwbYitOw2"
      },
      "source": [
        "import pandas as pd\n",
        "from tqdm import tqdm"
      ],
      "execution_count": 25,
      "outputs": []
    },
    {
      "cell_type": "code",
      "metadata": {
        "id": "sHTIxx_HLjTh"
      },
      "source": [
        "norm_texts = []\n",
        "titles = []\n",
        "for i, el in enumerate(data):\n",
        "    pbar.write('processed: %d' %i)\n",
        "    pbar.update(1)\n",
        "\n",
        "    if 'review/text' in eval(el) and 'product/title' in eval(el):\n",
        "        if eval(el)['product/title'] not in titles:\n",
        "            titles.append(eval(el)['product/title'])\n",
        "            norm_texts.append(preproc_text(eval(el)['review/text']))"
      ],
      "execution_count": null,
      "outputs": []
    },
    {
      "cell_type": "code",
      "metadata": {
        "colab": {
          "base_uri": "https://localhost:8080/",
          "height": 52
        },
        "id": "u6N3n6yyZ2ni",
        "outputId": "aeb67975-1c0c-4321-8435-557bd9839789"
      },
      "source": [
        "norm_texts[3]"
      ],
      "execution_count": 31,
      "outputs": [
        {
          "output_type": "execute_result",
          "data": {
            "application/vnd.google.colaboratory.intrinsic+json": {
              "type": "string"
            },
            "text/plain": [
              "'excellent around transaction high quality item exactly described superior packaging quick shipping superb seller buy confidence pleased'"
            ]
          },
          "metadata": {
            "tags": []
          },
          "execution_count": 31
        }
      ]
    },
    {
      "cell_type": "code",
      "metadata": {
        "colab": {
          "base_uri": "https://localhost:8080/",
          "height": 419
        },
        "id": "vHnW2zxOtbE8",
        "outputId": "66b50a50-d8f2-4367-a563-1539653de59e"
      },
      "source": [
        "df = pd.DataFrame({'titles': titles, 'norm_texts': norm_texts})\n",
        "df"
      ],
      "execution_count": 30,
      "outputs": [
        {
          "output_type": "execute_result",
          "data": {
            "text/html": [
              "<div>\n",
              "<style scoped>\n",
              "    .dataframe tbody tr th:only-of-type {\n",
              "        vertical-align: middle;\n",
              "    }\n",
              "\n",
              "    .dataframe tbody tr th {\n",
              "        vertical-align: top;\n",
              "    }\n",
              "\n",
              "    .dataframe thead th {\n",
              "        text-align: right;\n",
              "    }\n",
              "</style>\n",
              "<table border=\"1\" class=\"dataframe\">\n",
              "  <thead>\n",
              "    <tr style=\"text-align: right;\">\n",
              "      <th></th>\n",
              "      <th>titles</th>\n",
              "      <th>norm_texts</th>\n",
              "    </tr>\n",
              "  </thead>\n",
              "  <tbody>\n",
              "    <tr>\n",
              "      <th>0</th>\n",
              "      <td>Foamagic</td>\n",
              "      <td>anyone buy latte plural every day understand e...</td>\n",
              "    </tr>\n",
              "    <tr>\n",
              "      <th>1</th>\n",
              "      <td>Uniflame 4 Panel Triple-Plated Folding Firepla...</td>\n",
              "      <td>screen arrived cardboard box pretty beat scree...</td>\n",
              "    </tr>\n",
              "    <tr>\n",
              "      <th>2</th>\n",
              "      <td>Ariel Little Mermaid with Pearl Cake Kit</td>\n",
              "      <td>ordered cake topper june 27 2010 given estimat...</td>\n",
              "    </tr>\n",
              "    <tr>\n",
              "      <th>3</th>\n",
              "      <td>Umbra Centaur 36 to 54-Inch Decorative Tension...</td>\n",
              "      <td>excellent around transaction high quality item...</td>\n",
              "    </tr>\n",
              "    <tr>\n",
              "      <th>4</th>\n",
              "      <td>NFL Dallas Cowboys Children's Dinner Set</td>\n",
              "      <td>good quality fast delivery wonderful company p...</td>\n",
              "    </tr>\n",
              "    <tr>\n",
              "      <th>...</th>\n",
              "      <td>...</td>\n",
              "      <td>...</td>\n",
              "    </tr>\n",
              "    <tr>\n",
              "      <th>73705</th>\n",
              "      <td>Paderno World Cuisine Chromed Steel Wall Mount...</td>\n",
              "      <td>_only_ mounted attached wall contrary feature ...</td>\n",
              "    </tr>\n",
              "    <tr>\n",
              "      <th>73706</th>\n",
              "      <td>Black Cat Lap Square - 54 x 54 Blanket/Throw</td>\n",
              "      <td>ordered lap aquare throw blanket amazon grandm...</td>\n",
              "    </tr>\n",
              "    <tr>\n",
              "      <th>73707</th>\n",
              "      <td>Umbra Centaur 24 to 36-Inch Decorative Tension...</td>\n",
              "      <td>looking shower stall curtain rod found practic...</td>\n",
              "    </tr>\n",
              "    <tr>\n",
              "      <th>73708</th>\n",
              "      <td>Culinary Institute of America Masters Collecti...</td>\n",
              "      <td>bought nov 2010 honed yet sharpen daily use ab...</td>\n",
              "    </tr>\n",
              "    <tr>\n",
              "      <th>73709</th>\n",
              "      <td>Chantal 12-Ounce Cappuccino Mug, Cinnabar</td>\n",
              "      <td>mug hard find store thrilled find line good price</td>\n",
              "    </tr>\n",
              "  </tbody>\n",
              "</table>\n",
              "<p>73710 rows × 2 columns</p>\n",
              "</div>"
            ],
            "text/plain": [
              "                                                  titles                                         norm_texts\n",
              "0                                               Foamagic  anyone buy latte plural every day understand e...\n",
              "1      Uniflame 4 Panel Triple-Plated Folding Firepla...  screen arrived cardboard box pretty beat scree...\n",
              "2               Ariel Little Mermaid with Pearl Cake Kit  ordered cake topper june 27 2010 given estimat...\n",
              "3      Umbra Centaur 36 to 54-Inch Decorative Tension...  excellent around transaction high quality item...\n",
              "4               NFL Dallas Cowboys Children's Dinner Set  good quality fast delivery wonderful company p...\n",
              "...                                                  ...                                                ...\n",
              "73705  Paderno World Cuisine Chromed Steel Wall Mount...  _only_ mounted attached wall contrary feature ...\n",
              "73706       Black Cat Lap Square - 54 x 54 Blanket/Throw  ordered lap aquare throw blanket amazon grandm...\n",
              "73707  Umbra Centaur 24 to 36-Inch Decorative Tension...  looking shower stall curtain rod found practic...\n",
              "73708  Culinary Institute of America Masters Collecti...  bought nov 2010 honed yet sharpen daily use ab...\n",
              "73709          Chantal 12-Ounce Cappuccino Mug, Cinnabar  mug hard find store thrilled find line good price\n",
              "\n",
              "[73710 rows x 2 columns]"
            ]
          },
          "metadata": {
            "tags": []
          },
          "execution_count": 30
        }
      ]
    },
    {
      "cell_type": "markdown",
      "metadata": {
        "id": "Odoa203LDl3s"
      },
      "source": [
        "## Варианты для поиска упоминаний товаров в отзывах"
      ]
    },
    {
      "cell_type": "markdown",
      "metadata": {
        "id": "zjM009f-Ru4D"
      },
      "source": [
        "\n",
        "\n",
        "1. Составление шабонов с типом товара, поиск соответствующих n-грамм и выделение названий из них.\n",
        "Для реализации такого метода необходимо заранее подготовить список представленных типов товаров, например, такие данные можно попробовать выгрузить из метаданных или статистически.\n",
        "\n",
        "    Тем не менее, несмотря на вероятное высокое качество результатов при экспериментах с различными значениям n, такой метод требует огромной предварительной работы. Более того, такой метод подойдёт для более специфичных датасетов, где сущности окажутся более свзанными и количество классов гораздо меньше, так как в раздел Home & Kitchen попадает слишком много различных товаров, начиная с пылесосов и мебели и заканчивая банными полотенцами.\n",
        "\n",
        "2. Написание правил с помощью построения шаблонов, фиксирующих последовательность частеречных тегов и грамматической информации. Здесь опять возникает проблема с подготовкой шаблонов, требующая человческих ресурсов. Лично мне кажется, что при наличии других вариантов решения задачи лучше обойти стороной методы, использующие ручную разметку, так как здесь оказывается принципиальным человеческий фактор, делающий правила не совсем надёжными. Полученная разметка окажется достаточно субъективной, а потому, для надёности, необходима работа сразу нескольких разметчиков, что требует много времени и сил.\n",
        "\n",
        "3. Составление мини-словаря сущностей с помощью извлечения ключевых слов + расширение словаря с помощью эмбеддингов. Такой метод подойдет для изменяющихся данных (что глобально справедливо и для нашего кейса), так как словарь можно обновлять и онлайн. Тем не менее, могут возникнуть сложности с редкими словами и названиями товаров или брендов, которых в нашем датасете должно быть много, однако давайте лучше проверим это на практике."
      ]
    },
    {
      "cell_type": "markdown",
      "metadata": {
        "id": "Sft73RBTV5rc"
      },
      "source": [
        "## Составление мини-словаря сущностей + его расширение с помощью эмбеддингов"
      ]
    },
    {
      "cell_type": "markdown",
      "metadata": {
        "id": "xN5KEj-oYECf"
      },
      "source": [
        "Тексты мы уже нормализовали, займёмся выделеним ключевых слов. Так как в заголовке с большой вероятностью будет указана нужная нам сущность, пересечение заголовка и ключевых слов текста я решила брать с большим весом."
      ]
    },
    {
      "cell_type": "code",
      "metadata": {
        "colab": {
          "base_uri": "https://localhost:8080/"
        },
        "id": "BkvM39o4Du2q",
        "outputId": "421badc4-e662-4ce4-d6ef-55ff34af93d5"
      },
      "source": [
        "!pip install summa"
      ],
      "execution_count": 14,
      "outputs": [
        {
          "output_type": "stream",
          "text": [
            "Requirement already satisfied: summa in /usr/local/lib/python3.6/dist-packages (1.2.0)\n",
            "Requirement already satisfied: scipy>=0.19 in /usr/local/lib/python3.6/dist-packages (from summa) (1.4.1)\n",
            "Requirement already satisfied: numpy>=1.13.3 in /usr/local/lib/python3.6/dist-packages (from scipy>=0.19->summa) (1.19.4)\n"
          ],
          "name": "stdout"
        }
      ]
    },
    {
      "cell_type": "code",
      "metadata": {
        "id": "ofcDC1UXZkCN"
      },
      "source": [
        "from summa import keywords"
      ],
      "execution_count": 15,
      "outputs": []
    },
    {
      "cell_type": "code",
      "metadata": {
        "colab": {
          "base_uri": "https://localhost:8080/"
        },
        "id": "VXSOcGnKaW67",
        "outputId": "f2e4ce41-9ea1-43d8-8dcd-fbd6557adac4"
      },
      "source": [
        "keywords.keywords(norm_texts[1], additional_stopwords=STOPWORDS, scores=True)"
      ],
      "execution_count": 32,
      "outputs": [
        {
          "output_type": "execute_result",
          "data": {
            "text/plain": [
              "[('screen', 0.37314084126473696),\n",
              " ('looking', 0.31206874068996954),\n",
              " ('looked', 0.31206874068996954),\n",
              " ('price', 0.24815122146136603),\n",
              " ('brass', 0.2472626248112969)]"
            ]
          },
          "metadata": {
            "tags": []
          },
          "execution_count": 32
        }
      ]
    },
    {
      "cell_type": "code",
      "metadata": {
        "id": "W22iBqmPbvb0"
      },
      "source": [
        "def add_to_dict(el, d):\n",
        "    if el in d:\n",
        "        d[el] += 1\n",
        "    else:\n",
        "        d[el] = 1"
      ],
      "execution_count": 17,
      "outputs": []
    },
    {
      "cell_type": "code",
      "metadata": {
        "id": "Rkl-LpuX14RZ"
      },
      "source": [
        "d = {}\n",
        "for i in range(len(df)):\n",
        "    pbar.write('processed: %d' %i)\n",
        "    pbar.update(1)\n",
        "    \n",
        "    kw = keywords.keywords(df['norm_texts'][i], additional_stopwords=STOPWORDS, scores=True)\n",
        "    for k in kw:\n",
        "        add_to_dict(k[0], d)\n",
        "        if k[0] in df['titles'][i]:\n",
        "            d[k[0]] += 1"
      ],
      "execution_count": null,
      "outputs": []
    },
    {
      "cell_type": "code",
      "metadata": {
        "colab": {
          "base_uri": "https://localhost:8080/"
        },
        "id": "zCApXFH57ALn",
        "outputId": "aed807ae-d014-4208-ec9b-45d99710bb88"
      },
      "source": [
        "len(d)"
      ],
      "execution_count": 34,
      "outputs": [
        {
          "output_type": "execute_result",
          "data": {
            "text/plain": [
              "72666"
            ]
          },
          "metadata": {
            "tags": []
          },
          "execution_count": 34
        }
      ]
    },
    {
      "cell_type": "code",
      "metadata": {
        "id": "vllg975Z7Hkl"
      },
      "source": [
        "list_d = list(d.items())\n",
        "list_d.sort(key=lambda i: i[1], reverse=True)"
      ],
      "execution_count": 37,
      "outputs": []
    },
    {
      "cell_type": "markdown",
      "metadata": {
        "id": "QCTESl5t7a9H"
      },
      "source": [
        "\n",
        "Выведем 200 самых частых ключевых слов и проанализируем их"
      ]
    },
    {
      "cell_type": "code",
      "metadata": {
        "colab": {
          "base_uri": "https://localhost:8080/"
        },
        "id": "BP3tg8ru7ODc",
        "outputId": "b33aa961-358e-4175-c0f8-3be928f9a699"
      },
      "source": [
        "list_d[:200]"
      ],
      "execution_count": 38,
      "outputs": [
        {
          "output_type": "execute_result",
          "data": {
            "text/plain": [
              "[('use', 2560),\n",
              " ('great', 2420),\n",
              " ('like', 2354),\n",
              " ('look', 2309),\n",
              " ('set', 2282),\n",
              " ('product', 2179),\n",
              " ('good', 1835),\n",
              " ('make', 1786),\n",
              " ('time', 1654),\n",
              " ('pan', 1427),\n",
              " ('work', 1394),\n",
              " ('nice', 1349),\n",
              " ('year', 1261),\n",
              " ('item', 1254),\n",
              " ('price', 1247),\n",
              " ('looking', 1244),\n",
              " ('quality', 1179),\n",
              " ('little', 1164),\n",
              " ('dont', 1163),\n",
              " ('love', 1155),\n",
              " ('knife', 1122),\n",
              " ('piece', 1069),\n",
              " ('easy', 969),\n",
              " ('color', 924),\n",
              " ('im', 880),\n",
              " ('clean', 857),\n",
              " ('handle', 854),\n",
              " ('size', 828),\n",
              " ('buy', 809),\n",
              " ('purchase', 799),\n",
              " ('need', 791),\n",
              " ('perfect', 787),\n",
              " ('cooking', 747),\n",
              " ('water', 737),\n",
              " ('thing', 735),\n",
              " ('cook', 716),\n",
              " ('bought', 712),\n",
              " ('sheet', 712),\n",
              " ('amazon', 695),\n",
              " ('unit', 693),\n",
              " ('glass', 691),\n",
              " ('small', 687),\n",
              " ('fit', 686),\n",
              " ('purchased', 679),\n",
              " ('coffee', 675),\n",
              " ('pot', 674),\n",
              " ('bowl', 649),\n",
              " ('making', 646),\n",
              " ('heat', 639),\n",
              " ('ive', 627),\n",
              " ('gift', 623),\n",
              " ('lid', 596),\n",
              " ('poster', 592),\n",
              " ('want', 590),\n",
              " ('setting', 584),\n",
              " ('order', 584),\n",
              " ('cup', 566),\n",
              " ('ordered', 561),\n",
              " ('got', 537),\n",
              " ('plate', 531),\n",
              " ('plastic', 528),\n",
              " ('problem', 527),\n",
              " ('come', 526),\n",
              " ('design', 521),\n",
              " ('box', 516),\n",
              " ('room', 512),\n",
              " ('new', 510),\n",
              " ('review', 508),\n",
              " ('towel', 504),\n",
              " ('shipping', 497),\n",
              " ('day', 490),\n",
              " ('bed', 489),\n",
              " ('looked', 488),\n",
              " ('better', 479),\n",
              " ('beautiful', 476),\n",
              " ('dish', 474),\n",
              " ('kitchen', 474),\n",
              " ('clock', 472),\n",
              " ('table', 465),\n",
              " ('right', 460),\n",
              " ('bit', 456),\n",
              " ('filter', 453),\n",
              " ('think', 451),\n",
              " ('light', 446),\n",
              " ('machine', 442),\n",
              " ('hold', 441),\n",
              " ('high', 439),\n",
              " ('way', 437),\n",
              " ('food', 433),\n",
              " ('hand', 431),\n",
              " ('cleaning', 430),\n",
              " ('picture', 427),\n",
              " ('lot', 424),\n",
              " ('le', 423),\n",
              " ('cut', 419),\n",
              " ('highly', 416),\n",
              " ('store', 415),\n",
              " ('know', 409),\n",
              " ('feel', 406),\n",
              " ('pillow', 406),\n",
              " ('worked', 399),\n",
              " ('recommend', 397),\n",
              " ('blade', 394),\n",
              " ('doesnt', 393),\n",
              " ('replacement', 393),\n",
              " ('x', 390),\n",
              " ('chair', 389),\n",
              " ('large', 389),\n",
              " ('old', 386),\n",
              " ('didnt', 385),\n",
              " ('air', 384),\n",
              " ('needed', 379),\n",
              " ('buying', 377),\n",
              " ('inch', 371),\n",
              " ('arrived', 370),\n",
              " ('working', 370),\n",
              " ('vacuum', 370),\n",
              " ('fan', 370),\n",
              " ('return', 364),\n",
              " ('say', 361),\n",
              " ('wanted', 352),\n",
              " ('hot', 352),\n",
              " ('month', 351),\n",
              " ('bag', 351),\n",
              " ('best', 340),\n",
              " ('brand', 338),\n",
              " ('try', 334),\n",
              " ('perfectly', 333),\n",
              " ('big', 331),\n",
              " ('model', 330),\n",
              " ('place', 326),\n",
              " ('heavy', 326),\n",
              " ('different', 317),\n",
              " ('pretty', 311),\n",
              " ('wash', 309),\n",
              " ('oven', 308),\n",
              " ('tried', 306),\n",
              " ('replace', 306),\n",
              " ('mug', 306),\n",
              " ('cutting', 306),\n",
              " ('soft', 303),\n",
              " ('pattern', 303),\n",
              " ('wood', 303),\n",
              " ('frame', 302),\n",
              " ('received', 299),\n",
              " ('dishwasher', 296),\n",
              " ('long', 293),\n",
              " ('cover', 293),\n",
              " ('happy', 290),\n",
              " ('easily', 288),\n",
              " ('shelf', 288),\n",
              " ('nicely', 286),\n",
              " ('company', 285),\n",
              " ('came', 283),\n",
              " ('metal', 281),\n",
              " ('cake', 280),\n",
              " ('loved', 280),\n",
              " ('useful', 279),\n",
              " ('money', 278),\n",
              " ('christmas', 277),\n",
              " ('home', 277),\n",
              " ('turn', 275),\n",
              " ('star', 273),\n",
              " ('steel', 271),\n",
              " ('open', 268),\n",
              " ('fine', 266),\n",
              " ('screw', 263),\n",
              " ('stainless', 262),\n",
              " ('nonstick', 259),\n",
              " ('worth', 258),\n",
              " ('microwave', 257),\n",
              " ('hard', 256),\n",
              " ('sure', 255),\n",
              " ('edge', 253),\n",
              " ('excellent', 248),\n",
              " ('exactly', 247),\n",
              " ('weight', 246),\n",
              " ('iron', 244),\n",
              " ('youre', 243),\n",
              " ('actually', 243),\n",
              " ('purchasing', 243),\n",
              " ('line', 241),\n",
              " ('white', 240),\n",
              " ('quot', 239),\n",
              " ('space', 235),\n",
              " ('read', 235),\n",
              " ('end', 235),\n",
              " ('spoon', 235),\n",
              " ('ordering', 230),\n",
              " ('comforter', 229),\n",
              " ('surface', 229),\n",
              " ('blanket', 228),\n",
              " ('comfortable', 228),\n",
              " ('black', 227),\n",
              " ('expected', 226),\n",
              " ('going', 226),\n",
              " ('tea', 225),\n",
              " ('wall', 224),\n",
              " ('cost', 224),\n",
              " ('minute', 223)]"
            ]
          },
          "metadata": {
            "tags": []
          },
          "execution_count": 38
        }
      ]
    },
    {
      "cell_type": "code",
      "metadata": {
        "id": "dEiXVHYkf0S8"
      },
      "source": [
        "ne = ['pan', 'knife', 'sheet', 'cooking', 'glass', 'coffee', 'blanket',\n",
        "      'pot', 'bowl', 'poster', 'cup', 'plate', 'plastic', 'design', 'box',\n",
        "      'towel', 'bed', 'dish', 'kitchen', 'clock', 'table', 'light', 'food',\n",
        "      'cleaning', 'picture', 'pillow', 'blade', 'chair', 'vacuum', 'bag',\n",
        "      'mug', 'frame', 'dishwasher', 'shelf', 'christmas', 'stainless', \n",
        "      'nonstick', 'microwave', 'iron', 'spoon']"
      ],
      "execution_count": 153,
      "outputs": []
    },
    {
      "cell_type": "markdown",
      "metadata": {
        "id": "h3sn3OdvAXf1"
      },
      "source": [
        "Мне кажется, получилось достаточно хорошо!\n",
        "Теперь добавим каждому слову близкое к нему"
      ]
    },
    {
      "cell_type": "code",
      "metadata": {
        "id": "AV6yBD08BSOB"
      },
      "source": [
        "import gensim.downloader"
      ],
      "execution_count": 41,
      "outputs": []
    },
    {
      "cell_type": "code",
      "metadata": {
        "colab": {
          "base_uri": "https://localhost:8080/"
        },
        "id": "TnLiRyFDBYWV",
        "outputId": "b63cd0b9-c48b-4227-8ed6-50f08ba51970"
      },
      "source": [
        "pprint.pprint(list(gensim.downloader.info()['models'].keys()))"
      ],
      "execution_count": 43,
      "outputs": [
        {
          "output_type": "stream",
          "text": [
            "['fasttext-wiki-news-subwords-300',\n",
            " 'conceptnet-numberbatch-17-06-300',\n",
            " 'word2vec-ruscorpora-300',\n",
            " 'word2vec-google-news-300',\n",
            " 'glove-wiki-gigaword-50',\n",
            " 'glove-wiki-gigaword-100',\n",
            " 'glove-wiki-gigaword-200',\n",
            " 'glove-wiki-gigaword-300',\n",
            " 'glove-twitter-25',\n",
            " 'glove-twitter-50',\n",
            " 'glove-twitter-100',\n",
            " 'glove-twitter-200',\n",
            " '__testing_word2vec-matrix-synopsis']\n"
          ],
          "name": "stdout"
        }
      ]
    },
    {
      "cell_type": "markdown",
      "metadata": {
        "id": "voZc8nEbBfy2"
      },
      "source": [
        "Я думаю, что исходя из специфики жанра отзывов лучше всего взять эмбеддинги, построенные на Твиттере"
      ]
    },
    {
      "cell_type": "code",
      "metadata": {
        "colab": {
          "base_uri": "https://localhost:8080/"
        },
        "id": "ooI7A6JdBeX8",
        "outputId": "a0df86f3-a3a8-47a3-8916-2edb54cb57c6"
      },
      "source": [
        "glove_vectors = gensim.downloader.load('glove-twitter-100')"
      ],
      "execution_count": 44,
      "outputs": [
        {
          "output_type": "stream",
          "text": [
            "[==============================================----] 92.1% 356.7/387.1MB downloaded"
          ],
          "name": "stdout"
        }
      ]
    },
    {
      "cell_type": "code",
      "metadata": {
        "colab": {
          "base_uri": "https://localhost:8080/"
        },
        "id": "IipYkLaPE4UU",
        "outputId": "d6d34f4e-fa3e-4753-9a47-8c9ccdfb94df"
      },
      "source": [
        "glove_vectors.most_similar('cat')[0]"
      ],
      "execution_count": 46,
      "outputs": [
        {
          "output_type": "execute_result",
          "data": {
            "text/plain": [
              "('dog', 0.875208854675293)"
            ]
          },
          "metadata": {
            "tags": []
          },
          "execution_count": 46
        }
      ]
    },
    {
      "cell_type": "code",
      "metadata": {
        "id": "BSDCx3BUFN71"
      },
      "source": [
        "ne_emb = []\n",
        "for word in ne:\n",
        "    if word not in ne_emb:\n",
        "        ne_emb.append(word)\n",
        "        if word in glove_vectors:\n",
        "            ne_emb.append(glove_vectors.most_similar(word)[0][0])"
      ],
      "execution_count": 154,
      "outputs": []
    },
    {
      "cell_type": "code",
      "metadata": {
        "colab": {
          "base_uri": "https://localhost:8080/"
        },
        "id": "DnjTPD99Hovw",
        "outputId": "6b11931d-496c-4578-b75c-02073f9ba62f"
      },
      "source": [
        "print(ne_emb)"
      ],
      "execution_count": 155,
      "outputs": [
        {
          "output_type": "stream",
          "text": [
            "['pan', 'mah', 'knife', 'knives', 'sheet', 'sheets', 'cooking', 'cooked', 'glass', 'bottle', 'coffee', 'tea', 'blanket', 'blankets', 'pot', 'pots', 'bowl', 'superbowl', 'poster', 'posters', 'cup', 'cups', 'plate', 'plates', 'plastic', 'bag', 'design', 'designer', 'box', 'bag', 'towel', 'towels', 'bed', 'sleep', 'dish', 'soap', 'kitchen', 'bathroom', 'clock', 'alarm', 'table', 'front', 'light', 'lights', 'food', 'eat', 'cleaning', 'washing', 'picture', 'pictures', 'pillow', 'pillows', 'blade', 'blades', 'chair', 'desk', 'vacuum', 'cleaner', 'mug', 'mugs', 'frame', 'fabric', 'dishwasher', 'washer', 'shelf', 'drawer', 'christmas', 'xmas', 'stainless', 'steel', 'nonstick', 'anodized', 'microwave', 'oven', 'iron', 'batman', 'spoon', 'fork']\n"
          ],
          "name": "stdout"
        }
      ]
    },
    {
      "cell_type": "markdown",
      "metadata": {
        "id": "5i0GqFtgHzc7"
      },
      "source": [
        "С сожалением обнаруживаем, что близкие английские слова - это просто едиснтвенное и множественное числа.\n",
        "\n",
        "Нам такое не очень интересно, так как тексты мы нормализовали, поэтому можно попробовать нормализовать близкое слово и сравнить с тем, которое уже лежит в `ne`, если слова совпадут, то возьмём следующее по близости. В ином случае получится, что наш нормализатор или не справляется с преобразованием, или слова действительно разные, что устраивает нас в любом случае. "
      ]
    },
    {
      "cell_type": "code",
      "metadata": {
        "id": "gkrmamW4IlyZ"
      },
      "source": [
        "ne_emb = []\n",
        "for word in ne:\n",
        "    if word not in ne_emb:\n",
        "        ne_emb.append(word)\n",
        "        index = 0\n",
        "        if word in glove_vectors:\n",
        "            while index != -1:\n",
        "                sim = glove_vectors.most_similar(word)[index][0]\n",
        "                if word == preproc_text(sim):\n",
        "                    index += 1\n",
        "                else:\n",
        "                    ne_emb.append(sim)\n",
        "                    index = -1"
      ],
      "execution_count": 156,
      "outputs": []
    },
    {
      "cell_type": "code",
      "metadata": {
        "id": "Yn6hy5WvK3E4"
      },
      "source": [
        "NE_EMB = set(ne_emb)"
      ],
      "execution_count": 157,
      "outputs": []
    },
    {
      "cell_type": "code",
      "metadata": {
        "colab": {
          "base_uri": "https://localhost:8080/"
        },
        "id": "wKBhuTXIKMlr",
        "outputId": "dc8e722a-8b33-4044-cd6a-2fa0b1034e2b"
      },
      "source": [
        "print(NE_EMB)"
      ],
      "execution_count": 158,
      "outputs": [
        {
          "output_type": "stream",
          "text": [
            "{'coffee', 'shower', 'tumbler', 'cleaning', 'tea', 'cooked', 'pillow', 'xmas', 'superbowl', 'cooking', 'bed', 'chair', 'fork', 'plastic', 'bottle', 'corn', 'front', 'blanket', 'clock', 'alarm', 'dishwasher', 'poster', 'pot', 'blade', 'league', 'eat', 'designer', 'vacuum', 'washing', 'cleaner', 'stainless', 'nonstick', 'cup', 'pan', 'mah', 'drawer', 'knife', 'bag', 'sleep', 'steel', 'microwave', 'bathroom', 'soap', 'light', 'christmas', 'food', 'oven', 'batman', 'pic', 'shelf', 'towel', 'fabric', 'sheet', 'dark', 'dish', 'paper', 'burrito', 'cover', 'glass', 'spoon', 'iron', 'box', 'picture', 'frame', 'anodized', 'design', 'washer', 'kitchen', 'desk', 'plate', 'mug', 'bowl', 'table'}\n"
          ],
          "name": "stdout"
        }
      ]
    },
    {
      "cell_type": "markdown",
      "metadata": {
        "id": "hz8JC5-0K7Ay"
      },
      "source": [
        "Теперь совсем красота!"
      ]
    },
    {
      "cell_type": "markdown",
      "metadata": {
        "id": "C0b_TyPuNWos"
      },
      "source": [
        "Соберем биграммы с полученными сущностями и дескрипторами"
      ]
    },
    {
      "cell_type": "code",
      "metadata": {
        "id": "yb_TSKMsNwFR"
      },
      "source": [
        "def get_bigrams(text, bigrams):\n",
        "    text = text.split()\n",
        "    for ne in NE_EMB:\n",
        "        ind = [i for i, word in enumerate(text) if word == ne]\n",
        "        if ind:\n",
        "            for i in ind:\n",
        "                bigrams.append(tuple(text[(i - 1):(i + 1)])) if i != 0 else None\n",
        "                bigrams.append(tuple(text[i:(i + 2)])) if i != len(text) - 1 else None"
      ],
      "execution_count": 177,
      "outputs": []
    },
    {
      "cell_type": "code",
      "metadata": {
        "colab": {
          "base_uri": "https://localhost:8080/"
        },
        "id": "G8gkO1yXV7Ve",
        "outputId": "b3d600aa-c3f8-4bad-ab9d-1f25923529b0"
      },
      "source": [
        "ex_bigrams = []\n",
        "ex_text = 'knife KL100 one tumbler two cup'\n",
        "get_bigrams(ex_text, ex_bigrams)\n",
        "ex_bigrams"
      ],
      "execution_count": 178,
      "outputs": [
        {
          "output_type": "execute_result",
          "data": {
            "text/plain": [
              "[('one', 'tumbler'), ('tumbler', 'two'), ('two', 'cup'), ('knife', 'KL100')]"
            ]
          },
          "metadata": {
            "tags": []
          },
          "execution_count": 178
        }
      ]
    },
    {
      "cell_type": "code",
      "metadata": {
        "id": "ibfQRB7gS6sL"
      },
      "source": [
        "bigrams = []\n",
        "for i, text in enumerate(df['norm_texts']):\n",
        "    pbar.write('processed: %d' %i)\n",
        "    pbar.update(1)\n",
        "    get_bigrams(text, bigrams)"
      ],
      "execution_count": null,
      "outputs": []
    },
    {
      "cell_type": "code",
      "metadata": {
        "colab": {
          "base_uri": "https://localhost:8080/"
        },
        "id": "dVE_QcBWUoT6",
        "outputId": "da60b558-c224-4bd8-da9e-6b40355ed178"
      },
      "source": [
        "bigrams[100:111]"
      ],
      "execution_count": 180,
      "outputs": [
        {
          "output_type": "execute_result",
          "data": {
            "text/plain": [
              "[('guest', 'bowl'),\n",
              " ('bowl', 'wide'),\n",
              " ('microwave', 'dishwasher'),\n",
              " ('oven', 'microwave'),\n",
              " ('microwave', 'dishwasher'),\n",
              " ('go', 'oven'),\n",
              " ('oven', 'microwave'),\n",
              " ('love', 'dish'),\n",
              " ('dish', 'exactly'),\n",
              " ('match', 'kitchen'),\n",
              " ('kitchen', 'go')]"
            ]
          },
          "metadata": {
            "tags": []
          },
          "execution_count": 180
        }
      ]
    },
    {
      "cell_type": "code",
      "metadata": {
        "colab": {
          "base_uri": "https://localhost:8080/"
        },
        "id": "NmY2Gkw6aGGH",
        "outputId": "8f9ad1e3-a34b-4c3f-f194-fcbcff6b291b"
      },
      "source": [
        "len(bigrams)"
      ],
      "execution_count": 181,
      "outputs": [
        {
          "output_type": "execute_result",
          "data": {
            "text/plain": [
              "348629"
            ]
          },
          "metadata": {
            "tags": []
          },
          "execution_count": 181
        }
      ]
    },
    {
      "cell_type": "markdown",
      "metadata": {
        "id": "rhXuiALXZP3e"
      },
      "source": [
        "## Отранжируем полученные биграммы"
      ]
    },
    {
      "cell_type": "code",
      "metadata": {
        "id": "krI0OI5iaI6F"
      },
      "source": [
        "bigram_measures = nltk.collocations.BigramAssocMeasures()\n",
        "finder2 = nltk.collocations.BigramCollocationFinder.from_documents(bigrams)"
      ],
      "execution_count": 182,
      "outputs": []
    },
    {
      "cell_type": "code",
      "metadata": {
        "id": "nlcD6XiddEDm"
      },
      "source": [
        "finder2.apply_freq_filter(10)"
      ],
      "execution_count": 183,
      "outputs": []
    },
    {
      "cell_type": "code",
      "metadata": {
        "colab": {
          "base_uri": "https://localhost:8080/"
        },
        "id": "qzRtz8KFe0fo",
        "outputId": "8fc57238-1cdf-442e-bed8-6c292e9d8e76"
      },
      "source": [
        "scores_dice = finder2.score_ngrams(bigram_measures.dice)\n",
        "scores_dice[:30]"
      ],
      "execution_count": 194,
      "outputs": [
        {
          "output_type": "execute_result",
          "data": {
            "text/plain": [
              "[(('stainless', 'steel'), 0.43778438391069585),\n",
              " (('cast', 'iron'), 0.29029957203994294),\n",
              " (('shower', 'curtain'), 0.2494289629968022),\n",
              " (('hard', 'anodized'), 0.21296296296296297),\n",
              " (('anodized', 'aluminum'), 0.20699708454810495),\n",
              " (('american', 'league'), 0.183206106870229),\n",
              " (('dishwasher', 'safe'), 0.1497606916782461),\n",
              " (('christmas', 'gift'), 0.14928112572652188),\n",
              " (('alarm', 'clock'), 0.1487724441187248),\n",
              " (('national', 'league'), 0.14018691588785046),\n",
              " (('major', 'league'), 0.13438735177865613),\n",
              " (('vacuum', 'cleaner'), 0.12961443806398687),\n",
              " (('corn', 'cob'), 0.12448132780082988),\n",
              " (('paper', 'towel'), 0.12001823985408117),\n",
              " (('nonstick', 'surface'), 0.11161731207289294),\n",
              " (('washer', 'dryer'), 0.10829493087557604),\n",
              " (('air', 'cleaner'), 0.10597710894446799),\n",
              " (('coffee', 'maker'), 0.09923110401856956),\n",
              " (('pillow', 'case'), 0.09895833333333333),\n",
              " (('nonstick', 'coating'), 0.09825546420693804),\n",
              " (('put', 'dishwasher'), 0.09478273098017156),\n",
              " (('dinner', 'plate'), 0.08142427019243356),\n",
              " (('light', 'weight'), 0.07916102841677942),\n",
              " (('duvet', 'cover'), 0.0789702556966429),\n",
              " (('toaster', 'oven'), 0.07798587657353392),\n",
              " (('fabric', 'softener'), 0.07769230769230769),\n",
              " (('dutch', 'oven'), 0.0770529547198772),\n",
              " (('christmas', 'present'), 0.07584695769425248),\n",
              " (('soap', 'water'), 0.07323452484742807),\n",
              " (('baby', 'shower'), 0.06913106096975516)]"
            ]
          },
          "metadata": {
            "tags": []
          },
          "execution_count": 194
        }
      ]
    },
    {
      "cell_type": "code",
      "metadata": {
        "colab": {
          "base_uri": "https://localhost:8080/"
        },
        "id": "2lJB_1xlbaz4",
        "outputId": "afce01b7-24c2-42d8-bb35-a1e5e9f482a1"
      },
      "source": [
        "scores_chi = finder2.score_ngrams(bigram_measures.chi_sq)\n",
        "scores_chi[:30]"
      ],
      "execution_count": 198,
      "outputs": [
        {
          "output_type": "execute_result",
          "data": {
            "text/plain": [
              "[(('stainless', 'steel'), 130115.35028686954),\n",
              " (('cast', 'iron'), 109586.18951792194),\n",
              " (('shower', 'curtain'), 91440.98825294174),\n",
              " (('national', 'league'), 46829.12181160039),\n",
              " (('corn', 'cob'), 44855.670000872735),\n",
              " (('dishwasher', 'safe'), 37085.503843317965),\n",
              " (('christmas', 'gift'), 32686.662495456676),\n",
              " (('anodized', 'aluminum'), 31529.652109597555),\n",
              " (('hard', 'anodized'), 31489.021084127522),\n",
              " (('american', 'league'), 31328.147627089915),\n",
              " (('coffee', 'maker'), 30466.46261516913),\n",
              " (('nonstick', 'coating'), 26116.50293553238),\n",
              " (('fabric', 'softener'), 26091.73119803366),\n",
              " (('duvet', 'cover'), 25403.197233008603),\n",
              " (('toaster', 'oven'), 24483.096922811477),\n",
              " (('dutch', 'oven'), 23818.993248227758),\n",
              " (('pillow', 'case'), 23573.296240980428),\n",
              " (('christmas', 'present'), 22429.271435144507),\n",
              " (('nonstick', 'surface'), 20425.748505099582),\n",
              " (('tea', 'kettle'), 20267.49776694479),\n",
              " (('food', 'processor'), 18934.668930541207),\n",
              " (('major', 'league'), 18238.365793521447),\n",
              " (('washer', 'dryer'), 18119.374325295856),\n",
              " (('air', 'cleaner'), 18077.8898222556),\n",
              " (('bridal', 'shower'), 17726.57315011694),\n",
              " (('fitted', 'sheet'), 17197.374882706423),\n",
              " (('alarm', 'clock'), 16657.13366443507),\n",
              " (('clock', 'radio'), 16614.866304020947),\n",
              " (('dinner', 'plate'), 16605.451893905058),\n",
              " (('light', 'weight'), 15402.99973776036)]"
            ]
          },
          "metadata": {
            "tags": []
          },
          "execution_count": 198
        }
      ]
    },
    {
      "cell_type": "code",
      "metadata": {
        "colab": {
          "base_uri": "https://localhost:8080/"
        },
        "id": "PWW7i6y8bL9j",
        "outputId": "89b79628-c7da-44f9-b80e-f9cdc4fdedc2"
      },
      "source": [
        "scores_pmi = finder2.score_ngrams(bigram_measures.pmi)\n",
        "scores_pmi[:30]"
      ],
      "execution_count": 189,
      "outputs": [
        {
          "output_type": "execute_result",
          "data": {
            "text/plain": [
              "[(('national', 'league'), 11.608708991470102),\n",
              " (('corn', 'cob'), 10.547043718534558),\n",
              " (('american', 'league'), 10.351875924804624),\n",
              " (('major', 'league'), 10.06938915630466),\n",
              " (('ear', 'corn'), 9.719880315396775),\n",
              " (('tumbler', 'refill'), 9.107552308391195),\n",
              " (('fiber', 'washer'), 8.961565361605638),\n",
              " (('anodized', 'aluminum'), 8.79973671997233),\n",
              " (('soap', 'scum'), 8.706365352490186),\n",
              " (('washer', 'dryer'), 8.596324561967261),\n",
              " (('bridal', 'shower'), 8.445463909987957),\n",
              " (('desk', 'homework'), 8.43062222766811),\n",
              " (('hard', 'anodized'), 8.425614844537453),\n",
              " (('shower', 'curtain'), 8.3918645206039),\n",
              " (('soap', 'dispenser'), 8.207559495518748),\n",
              " (('vaccum', 'cleaner'), 8.15421311884399),\n",
              " (('fabric', 'beading'), 8.128823750327461),\n",
              " (('terible', 'washing'), 8.073153806668188),\n",
              " (('fork', 'tine'), 8.060499085234559),\n",
              " (('mild', 'soap'), 8.042762402529466),\n",
              " (('fabric', 'softener'), 8.018850908302333),\n",
              " (('blanket', 'snuggle'), 7.74399971496314),\n",
              " (('corn', 'meal'), 7.719880315396775),\n",
              " (('shower', 'caddy'), 7.668103728228189),\n",
              " (('mink', 'blanket'), 7.6508903105716595),\n",
              " (('fabric', 'softner'), 7.643396923157221),\n",
              " (('microwave', 'safequot'), 7.620577306449981),\n",
              " (('repeated', 'washing'), 7.607490234319375),\n",
              " (('front', 'yard'), 7.583672787939136),\n",
              " (('glow', 'dark'), 7.565557916196873)]"
            ]
          },
          "metadata": {
            "tags": []
          },
          "execution_count": 189
        }
      ]
    },
    {
      "cell_type": "code",
      "metadata": {
        "id": "qwU7dZo2eZDY"
      },
      "source": [
        "from nltk.metrics.spearman import *"
      ],
      "execution_count": 190,
      "outputs": []
    },
    {
      "cell_type": "code",
      "metadata": {
        "colab": {
          "base_uri": "https://localhost:8080/"
        },
        "id": "3zsKxKjge_Bm",
        "outputId": "0e87c5f5-0e0e-4b2d-e669-01a012acf09f"
      },
      "source": [
        "spearman_correlation(\n",
        "    ranks_from_scores(scores_dice),\n",
        "    ranks_from_scores(scores_chi)\n",
        ")"
      ],
      "execution_count": 199,
      "outputs": [
        {
          "output_type": "execute_result",
          "data": {
            "text/plain": [
              "0.46409244329538324"
            ]
          },
          "metadata": {
            "tags": []
          },
          "execution_count": 199
        }
      ]
    },
    {
      "cell_type": "code",
      "metadata": {
        "colab": {
          "base_uri": "https://localhost:8080/"
        },
        "id": "KBJCRLiQfFU_",
        "outputId": "05ab9557-c755-4785-a710-92efb3e1847c"
      },
      "source": [
        "spearman_correlation(\n",
        "    ranks_from_scores(scores_dice),\n",
        "    ranks_from_scores(scores_pmi)\n",
        ")"
      ],
      "execution_count": 197,
      "outputs": [
        {
          "output_type": "execute_result",
          "data": {
            "text/plain": [
              "0.48422333349992974"
            ]
          },
          "metadata": {
            "tags": []
          },
          "execution_count": 197
        }
      ]
    },
    {
      "cell_type": "code",
      "metadata": {
        "colab": {
          "base_uri": "https://localhost:8080/"
        },
        "id": "O8E2Na8tebU6",
        "outputId": "867d9b63-147f-454c-b379-a273ba3003f6"
      },
      "source": [
        "spearman_correlation(\n",
        "    ranks_from_scores(scores_chi),\n",
        "    ranks_from_scores(scores_pmi)\n",
        ")"
      ],
      "execution_count": 200,
      "outputs": [
        {
          "output_type": "execute_result",
          "data": {
            "text/plain": [
              "0.8165304006479773"
            ]
          },
          "metadata": {
            "tags": []
          },
          "execution_count": 200
        }
      ]
    },
    {
      "cell_type": "markdown",
      "metadata": {
        "id": "o8LmPL6QgVF7"
      },
      "source": [
        "Результаты показывают, что сильной разницы между PMI и Хи-квадратом нет, а с задачей лучше всего справляется Dice. Поверхностный анализ показывет, что в Dice с меньшей вероятностью попадают биграммы, не относящиеся к наименованию товара, а нужные нам коллокации оказываются в топе. \n",
        "\n",
        "Однако в каждую из выборок попали случайные биграммы, что объясняется в первую очередь семантической омонимией. Так, например, слово shower, которое мы включили в наш список, имеет и побочное значение, которое приводит к *baby shower, bridal shower* в нашей выдаче."
      ]
    },
    {
      "cell_type": "markdown",
      "metadata": {
        "id": "lsgdBTiViBQQ"
      },
      "source": [
        "## Группировка полученных коллокаций"
      ]
    },
    {
      "cell_type": "code",
      "metadata": {
        "id": "s_4ohiEBjkqA"
      },
      "source": [
        "coll_dict = {}\n",
        "for ne in NE_EMB:\n",
        "    coll_dict[ne] = []"
      ],
      "execution_count": 218,
      "outputs": []
    },
    {
      "cell_type": "code",
      "metadata": {
        "id": "MY11hKI4hrVJ"
      },
      "source": [
        "for bigram in scores_dice:\n",
        "    ne = set(list(bigram[0])) & NE_EMB\n",
        "    for word in ne:\n",
        "        coll_dict[word].append(' '.join(bigram[0]))"
      ],
      "execution_count": 219,
      "outputs": []
    },
    {
      "cell_type": "code",
      "metadata": {
        "id": "3f7EfFE8lRHv"
      },
      "source": [
        "for ne in NE_EMB:\n",
        "    coll_dict[ne] = list(set(coll_dict[ne]))"
      ],
      "execution_count": 220,
      "outputs": []
    },
    {
      "cell_type": "code",
      "metadata": {
        "colab": {
          "base_uri": "https://localhost:8080/"
        },
        "id": "_RJStpRNlYbg",
        "outputId": "ec7ec5da-e302-4d23-e6d9-0f0cc74df7b7"
      },
      "source": [
        "for ne in ['poster', 'spoon', 'soap', 'tumbler', 'coffee']:\n",
        "    print(ne)\n",
        "    print(coll_dict[ne][:5])"
      ],
      "execution_count": 232,
      "outputs": [
        {
          "output_type": "stream",
          "text": [
            "poster\n",
            "['poster little', 'poster wall', 'cool poster', 'poster love', 'sized poster']\n",
            "spoon\n",
            "['soup spoon', 'steel spoon', 'large spoon', 'spoon slotted', 'spoon use']\n",
            "soap\n",
            "['use soap', 'soap holder', 'little soap', 'dishwasher soap', 'dish soap']\n",
            "tumbler\n",
            "['glass tumbler', 'tumbler refill', '4 tumbler', 'plastic tumbler']\n",
            "coffee\n",
            "['coffee time', 'tasting coffee', 'fine coffee', 'coffee cup', 'coffee use']\n"
          ],
          "name": "stdout"
        }
      ]
    },
    {
      "cell_type": "markdown",
      "metadata": {
        "id": "p5nbpDlGmw5r"
      },
      "source": [
        "Получилось, что мы включили в конечную аналитику непосредственно типы товаров, как 'dishwasher soap' или 'soup spoon'. \n",
        "\n",
        "При анализе результатов видно, что ни в каких данных не фигурируют названия конкретных товаров и брендов, что объясняется рядом причин:\n",
        "1) Можно попробовать взять большее чсило n\n",
        "2) Непосредственно название товара и бренд для товаров такого типа будут фигурировать исключительно в названии. Пользователи не будут в отзыве писать ложка бренда X, более того, не станут заменять тип продукта на бренд (как это происходит, например, с айфонами). Поэтому можно ожидать, что в конкретной тематике не будет возникать проблем разрешения кореферентности, как это наоблюдается в приведённом в задании примере (\"Samsung Galaxy Watch\", \"watch\", \"smartwatch\").\n",
        "\n",
        "Тем не менее, если бы эта проблемы была актуальна для моей работы, я бы попробовала выделить гиперонимы внутри тайтла. Чаще всего заголовки содержат в себе указание на тип продукта, что можно зафиксировать если не ручным созданием списка исходя из метаданных, то статистически, так как можно предположить, что чаще всего в тайтлах будут повторяться именно такие общие слова как watch, всё остальное будет встречаться сравнительно реже (однако тут необходима эвристика для порога частотности, при котором мы перестаём считать слово гиперонимом).\n",
        "\n",
        "В результате получим разметку тайтл - гипероним. Теперь при исследовании коллокаций можно проверить каждое из слов в коллокации на входимость в тайтл (в случае неуспеха можно попробовать позаменять слова на близкие с помощью эмбеддингов). Если все слова или их синонимы окажутся в тайтле, значит, всю коллокацию можно заменить на гипероним."
      ]
    }
  ]
}
